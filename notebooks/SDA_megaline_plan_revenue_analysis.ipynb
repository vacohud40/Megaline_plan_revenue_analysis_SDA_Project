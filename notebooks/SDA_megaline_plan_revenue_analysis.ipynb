{
 "cells": [
  {
   "cell_type": "markdown",
   "metadata": {},
   "source": [
    "# Which one is a better plan?\n",
    "\n",
    "You work as an analyst for the telecom operator Megaline. The company offers its clients two prepaid plans, Surf and Ultimate. The commercial department wants to know which of the plans brings in more revenue in order to adjust the advertising budget.\n",
    "\n",
    "You are going to carry out a preliminary analysis of the plans based on a relatively small client selection. You'll have the data on 500 Megaline clients: who the clients are, where they're from, which plan they use, and the number of calls they made and text messages they sent in 2018. Your job is to analyze the clients' behavior and determine which prepaid plan brings in more revenue."
   ]
  },
  {
   "cell_type": "markdown",
   "metadata": {},
   "source": [
    "## Project Purpose:\n",
    "*Determine the more profitable prepaid plan for Megaline: The primary goal is to analyze client data to understand which plan (Surf or Ultimate) generates higher revenue for the telecom operator.\n",
    "\n",
    "*Inform advertising budget allocation: The findings will guide the commercial department in allocating advertising budgets more effectively, potentially focusing marketing efforts on the more profitable plan."
   ]
  },
  {
   "cell_type": "code",
   "execution_count": null,
   "metadata": {
    "trusted": true
   },
   "outputs": [],
   "source": [
    "# Loading the necessary libraries\n",
    "import pandas as pd\n",
    "import numpy as np\n",
    "import matplotlib.pyplot as plt\n",
    "import seaborn as sns\n",
    "from scipy import stats\n",
    "from scipy.stats import ttest_ind"
   ]
  },
  {
   "cell_type": "code",
   "execution_count": 2,
   "metadata": {
    "trusted": true
   },
   "outputs": [],
   "source": [
    "# Load the data files into different DataFrames\n",
    "\n",
    "users = pd.read_csv('/datasets/megaline_users.csv', parse_dates=['reg_date'])\n",
    "calls = pd.read_csv('/datasets/megaline_calls.csv', parse_dates=['call_date'])\n",
    "messages = pd.read_csv('/datasets/megaline_messages.csv', parse_dates=['message_date'])\n",
    "internet = pd.read_csv('/datasets/megaline_internet.csv', parse_dates=['session_date'])\n",
    "plans = pd.read_csv('/datasets/megaline_plans.csv')\n",
    "\n",
    "# Creating a function for initial exploration \n",
    "\n",
    "def data_exploration(df):\n",
    "  \"\"\"\n",
    "  This function explores a given DataFrame.\n",
    "\n",
    "  Args:\n",
    "    df: The pandas DataFrame to explore.\n",
    "\n",
    "  Returns:\n",
    "    None\n",
    "  \"\"\"\n",
    "\n",
    "  print(f\"Shape of the DataFrame: {df.shape}\")\n",
    "  print(\"\\nFirst few rows:\")\n",
    "  print(df.head())\n",
    "  print(\"\\nColumn names:\")\n",
    "  print(df.columns)\n",
    "  print(\"\\nData types:\")\n",
    "  print(df.dtypes)\n",
    "  print(\"\\nSummary statistics:\")\n",
    "  print(df.describe())\n",
    "  print(\"\\nMissing values:\")\n",
    "  print(df.isnull().sum())\n",
    "  print(\"\\nDuplicate rows:\")\n",
    "  print(f\"Number of duplicate rows: {df.duplicated().sum()}\")\n",
    "  print(\"\\nUnique values in each column:\")\n",
    "  for col in df.columns:\n",
    "    print(f\"{col}: {df[col].nunique()} unique values\")"
   ]
  },
  {
   "cell_type": "markdown",
   "metadata": {},
   "source": [
    "## Plans"
   ]
  },
  {
   "cell_type": "code",
   "execution_count": 3,
   "metadata": {
    "trusted": true
   },
   "outputs": [
    {
     "name": "stdout",
     "output_type": "stream",
     "text": [
      "Shape of the DataFrame: (2, 8)\n",
      "\n",
      "First few rows:\n",
      "   messages_included  mb_per_month_included  minutes_included  \\\n",
      "0                 50                  15360               500   \n",
      "1               1000                  30720              3000   \n",
      "\n",
      "   usd_monthly_pay  usd_per_gb  usd_per_message  usd_per_minute plan_name  \n",
      "0               20          10             0.03            0.03      surf  \n",
      "1               70           7             0.01            0.01  ultimate  \n",
      "\n",
      "Column names:\n",
      "Index(['messages_included', 'mb_per_month_included', 'minutes_included',\n",
      "       'usd_monthly_pay', 'usd_per_gb', 'usd_per_message', 'usd_per_minute',\n",
      "       'plan_name'],\n",
      "      dtype='object')\n",
      "\n",
      "Data types:\n",
      "messages_included          int64\n",
      "mb_per_month_included      int64\n",
      "minutes_included           int64\n",
      "usd_monthly_pay            int64\n",
      "usd_per_gb                 int64\n",
      "usd_per_message          float64\n",
      "usd_per_minute           float64\n",
      "plan_name                 object\n",
      "dtype: object\n",
      "\n",
      "Summary statistics:\n",
      "       messages_included  mb_per_month_included  minutes_included  \\\n",
      "count           2.000000               2.000000          2.000000   \n",
      "mean          525.000000           23040.000000       1750.000000   \n",
      "std           671.751442           10861.160159       1767.766953   \n",
      "min            50.000000           15360.000000        500.000000   \n",
      "25%           287.500000           19200.000000       1125.000000   \n",
      "50%           525.000000           23040.000000       1750.000000   \n",
      "75%           762.500000           26880.000000       2375.000000   \n",
      "max          1000.000000           30720.000000       3000.000000   \n",
      "\n",
      "       usd_monthly_pay  usd_per_gb  usd_per_message  usd_per_minute  \n",
      "count         2.000000     2.00000         2.000000        2.000000  \n",
      "mean         45.000000     8.50000         0.020000        0.020000  \n",
      "std          35.355339     2.12132         0.014142        0.014142  \n",
      "min          20.000000     7.00000         0.010000        0.010000  \n",
      "25%          32.500000     7.75000         0.015000        0.015000  \n",
      "50%          45.000000     8.50000         0.020000        0.020000  \n",
      "75%          57.500000     9.25000         0.025000        0.025000  \n",
      "max          70.000000    10.00000         0.030000        0.030000  \n",
      "\n",
      "Missing values:\n",
      "messages_included        0\n",
      "mb_per_month_included    0\n",
      "minutes_included         0\n",
      "usd_monthly_pay          0\n",
      "usd_per_gb               0\n",
      "usd_per_message          0\n",
      "usd_per_minute           0\n",
      "plan_name                0\n",
      "dtype: int64\n",
      "\n",
      "Duplicate rows:\n",
      "Number of duplicate rows: 0\n",
      "\n",
      "Unique values in each column:\n",
      "messages_included: 2 unique values\n",
      "mb_per_month_included: 2 unique values\n",
      "minutes_included: 2 unique values\n",
      "usd_monthly_pay: 2 unique values\n",
      "usd_per_gb: 2 unique values\n",
      "usd_per_message: 2 unique values\n",
      "usd_per_minute: 2 unique values\n",
      "plan_name: 2 unique values\n"
     ]
    }
   ],
   "source": [
    "# Print the general/summary information about the plans' DataFrame\n",
    "data_exploration(plans)"
   ]
  },
  {
   "cell_type": "code",
   "execution_count": 4,
   "metadata": {
    "scrolled": true,
    "trusted": true
   },
   "outputs": [
    {
     "data": {
      "text/html": [
       "<div>\n",
       "<style scoped>\n",
       "    .dataframe tbody tr th:only-of-type {\n",
       "        vertical-align: middle;\n",
       "    }\n",
       "\n",
       "    .dataframe tbody tr th {\n",
       "        vertical-align: top;\n",
       "    }\n",
       "\n",
       "    .dataframe thead th {\n",
       "        text-align: right;\n",
       "    }\n",
       "</style>\n",
       "<table border=\"1\" class=\"dataframe\">\n",
       "  <thead>\n",
       "    <tr style=\"text-align: right;\">\n",
       "      <th></th>\n",
       "      <th>messages_included</th>\n",
       "      <th>mb_per_month_included</th>\n",
       "      <th>minutes_included</th>\n",
       "      <th>usd_monthly_pay</th>\n",
       "      <th>usd_per_gb</th>\n",
       "      <th>usd_per_message</th>\n",
       "      <th>usd_per_minute</th>\n",
       "      <th>plan_name</th>\n",
       "    </tr>\n",
       "  </thead>\n",
       "  <tbody>\n",
       "    <tr>\n",
       "      <th>0</th>\n",
       "      <td>50</td>\n",
       "      <td>15360</td>\n",
       "      <td>500</td>\n",
       "      <td>20</td>\n",
       "      <td>10</td>\n",
       "      <td>0.03</td>\n",
       "      <td>0.03</td>\n",
       "      <td>surf</td>\n",
       "    </tr>\n",
       "    <tr>\n",
       "      <th>1</th>\n",
       "      <td>1000</td>\n",
       "      <td>30720</td>\n",
       "      <td>3000</td>\n",
       "      <td>70</td>\n",
       "      <td>7</td>\n",
       "      <td>0.01</td>\n",
       "      <td>0.01</td>\n",
       "      <td>ultimate</td>\n",
       "    </tr>\n",
       "  </tbody>\n",
       "</table>\n",
       "</div>"
      ],
      "text/plain": [
       "   messages_included  mb_per_month_included  minutes_included  \\\n",
       "0                 50                  15360               500   \n",
       "1               1000                  30720              3000   \n",
       "\n",
       "   usd_monthly_pay  usd_per_gb  usd_per_message  usd_per_minute plan_name  \n",
       "0               20          10             0.03            0.03      surf  \n",
       "1               70           7             0.01            0.01  ultimate  "
      ]
     },
     "execution_count": 4,
     "metadata": {},
     "output_type": "execute_result"
    }
   ],
   "source": [
    "# Print a sample of data for plans\n",
    "plans.sample(n=2)"
   ]
  },
  {
   "cell_type": "markdown",
   "metadata": {},
   "source": [
    "Based on the provided information, the data for plans file appears to accurately reflect the described plan details:\n",
    "\n",
    "Surf Plan:\n",
    "\n",
    "Monthly charge: 20 dollars \n",
    "500 minutes, 50 texts, 15 GB data (15360 MB)\n",
    "Overage charges: add 0.03 cents per minute, add 0.03 cents per text, add 10 dollars per GB\n",
    "\n",
    "Ultimate Plan:\n",
    "\n",
    "Monthly charge: 70 dollars\n",
    "3000 minutes, 1000 texts, 30 GB data (30720 MB)\n",
    "Overage charges: add 0.01 cents per minute, add 0.01 cents per text, add 7 dollars per GB\n",
    "\n",
    "No issues with data types, missing values, or inconsistencies are apparent in the provided sample."
   ]
  },
  {
   "cell_type": "markdown",
   "metadata": {},
   "source": [
    "## Users"
   ]
  },
  {
   "cell_type": "code",
   "execution_count": 5,
   "metadata": {
    "trusted": true
   },
   "outputs": [
    {
     "name": "stdout",
     "output_type": "stream",
     "text": [
      "Shape of the DataFrame: (500, 8)\n",
      "\n",
      "First few rows:\n",
      "   user_id first_name  last_name  age                                   city  \\\n",
      "0     1000   Anamaria      Bauer   45  Atlanta-Sandy Springs-Roswell, GA MSA   \n",
      "1     1001     Mickey  Wilkerson   28        Seattle-Tacoma-Bellevue, WA MSA   \n",
      "2     1002     Carlee    Hoffman   36   Las Vegas-Henderson-Paradise, NV MSA   \n",
      "3     1003   Reynaldo    Jenkins   52                          Tulsa, OK MSA   \n",
      "4     1004    Leonila   Thompson   40        Seattle-Tacoma-Bellevue, WA MSA   \n",
      "\n",
      "    reg_date      plan churn_date  \n",
      "0 2018-12-24  ultimate        NaN  \n",
      "1 2018-08-13      surf        NaN  \n",
      "2 2018-10-21      surf        NaN  \n",
      "3 2018-01-28      surf        NaN  \n",
      "4 2018-05-23      surf        NaN  \n",
      "\n",
      "Column names:\n",
      "Index(['user_id', 'first_name', 'last_name', 'age', 'city', 'reg_date', 'plan',\n",
      "       'churn_date'],\n",
      "      dtype='object')\n",
      "\n",
      "Data types:\n",
      "user_id                int64\n",
      "first_name            object\n",
      "last_name             object\n",
      "age                    int64\n",
      "city                  object\n",
      "reg_date      datetime64[ns]\n",
      "plan                  object\n",
      "churn_date            object\n",
      "dtype: object\n",
      "\n",
      "Summary statistics:\n",
      "           user_id         age\n",
      "count   500.000000  500.000000\n",
      "mean   1249.500000   45.486000\n",
      "std     144.481833   16.972269\n",
      "min    1000.000000   18.000000\n",
      "25%    1124.750000   30.000000\n",
      "50%    1249.500000   46.000000\n",
      "75%    1374.250000   61.000000\n",
      "max    1499.000000   75.000000\n",
      "\n",
      "Missing values:\n",
      "user_id         0\n",
      "first_name      0\n",
      "last_name       0\n",
      "age             0\n",
      "city            0\n",
      "reg_date        0\n",
      "plan            0\n",
      "churn_date    466\n",
      "dtype: int64\n",
      "\n",
      "Duplicate rows:\n",
      "Number of duplicate rows: 0\n",
      "\n",
      "Unique values in each column:\n",
      "user_id: 500 unique values\n",
      "first_name: 458 unique values\n",
      "last_name: 399 unique values\n",
      "age: 58 unique values\n",
      "city: 73 unique values\n",
      "reg_date: 266 unique values\n",
      "plan: 2 unique values\n",
      "churn_date: 29 unique values\n"
     ]
    }
   ],
   "source": [
    "# Print the general/summary information about the users' DataFrame\n",
    "data_exploration(users)"
   ]
  },
  {
   "cell_type": "code",
   "execution_count": 6,
   "metadata": {
    "trusted": true
   },
   "outputs": [
    {
     "data": {
      "text/html": [
       "<div>\n",
       "<style scoped>\n",
       "    .dataframe tbody tr th:only-of-type {\n",
       "        vertical-align: middle;\n",
       "    }\n",
       "\n",
       "    .dataframe tbody tr th {\n",
       "        vertical-align: top;\n",
       "    }\n",
       "\n",
       "    .dataframe thead th {\n",
       "        text-align: right;\n",
       "    }\n",
       "</style>\n",
       "<table border=\"1\" class=\"dataframe\">\n",
       "  <thead>\n",
       "    <tr style=\"text-align: right;\">\n",
       "      <th></th>\n",
       "      <th>user_id</th>\n",
       "      <th>first_name</th>\n",
       "      <th>last_name</th>\n",
       "      <th>age</th>\n",
       "      <th>city</th>\n",
       "      <th>reg_date</th>\n",
       "      <th>plan</th>\n",
       "      <th>churn_date</th>\n",
       "    </tr>\n",
       "  </thead>\n",
       "  <tbody>\n",
       "    <tr>\n",
       "      <th>51</th>\n",
       "      <td>1051</td>\n",
       "      <td>Rosario</td>\n",
       "      <td>Gibbs</td>\n",
       "      <td>55</td>\n",
       "      <td>San Diego-Chula Vista-Carlsbad, CA MSA</td>\n",
       "      <td>2018-12-11</td>\n",
       "      <td>surf</td>\n",
       "      <td>NaN</td>\n",
       "    </tr>\n",
       "    <tr>\n",
       "      <th>137</th>\n",
       "      <td>1137</td>\n",
       "      <td>Allegra</td>\n",
       "      <td>Hopkins</td>\n",
       "      <td>20</td>\n",
       "      <td>Chicago-Naperville-Elgin, IL-IN-WI MSA</td>\n",
       "      <td>2018-10-02</td>\n",
       "      <td>surf</td>\n",
       "      <td>NaN</td>\n",
       "    </tr>\n",
       "    <tr>\n",
       "      <th>455</th>\n",
       "      <td>1455</td>\n",
       "      <td>Jude</td>\n",
       "      <td>Fischer</td>\n",
       "      <td>20</td>\n",
       "      <td>Denver-Aurora-Lakewood, CO MSA</td>\n",
       "      <td>2018-08-13</td>\n",
       "      <td>surf</td>\n",
       "      <td>NaN</td>\n",
       "    </tr>\n",
       "    <tr>\n",
       "      <th>204</th>\n",
       "      <td>1204</td>\n",
       "      <td>Sherly</td>\n",
       "      <td>Levy</td>\n",
       "      <td>44</td>\n",
       "      <td>Chicago-Naperville-Elgin, IL-IN-WI MSA</td>\n",
       "      <td>2018-08-20</td>\n",
       "      <td>ultimate</td>\n",
       "      <td>NaN</td>\n",
       "    </tr>\n",
       "    <tr>\n",
       "      <th>298</th>\n",
       "      <td>1298</td>\n",
       "      <td>Loyce</td>\n",
       "      <td>Cooley</td>\n",
       "      <td>53</td>\n",
       "      <td>Nashville-Davidson–Murfreesboro–Franklin, TN MSA</td>\n",
       "      <td>2018-09-21</td>\n",
       "      <td>surf</td>\n",
       "      <td>2018-12-19</td>\n",
       "    </tr>\n",
       "    <tr>\n",
       "      <th>107</th>\n",
       "      <td>1107</td>\n",
       "      <td>Lane</td>\n",
       "      <td>Cash</td>\n",
       "      <td>61</td>\n",
       "      <td>New York-Newark-Jersey City, NY-NJ-PA MSA</td>\n",
       "      <td>2018-11-15</td>\n",
       "      <td>ultimate</td>\n",
       "      <td>NaN</td>\n",
       "    </tr>\n",
       "    <tr>\n",
       "      <th>103</th>\n",
       "      <td>1103</td>\n",
       "      <td>Moises</td>\n",
       "      <td>Weeks</td>\n",
       "      <td>28</td>\n",
       "      <td>Seattle-Tacoma-Bellevue, WA MSA</td>\n",
       "      <td>2018-07-01</td>\n",
       "      <td>surf</td>\n",
       "      <td>NaN</td>\n",
       "    </tr>\n",
       "    <tr>\n",
       "      <th>380</th>\n",
       "      <td>1380</td>\n",
       "      <td>Lajuana</td>\n",
       "      <td>Kelley</td>\n",
       "      <td>35</td>\n",
       "      <td>San Jose-Sunnyvale-Santa Clara, CA MSA</td>\n",
       "      <td>2018-09-04</td>\n",
       "      <td>ultimate</td>\n",
       "      <td>NaN</td>\n",
       "    </tr>\n",
       "    <tr>\n",
       "      <th>371</th>\n",
       "      <td>1371</td>\n",
       "      <td>Roderick</td>\n",
       "      <td>Slater</td>\n",
       "      <td>27</td>\n",
       "      <td>Portland-Vancouver-Hillsboro, OR-WA MSA</td>\n",
       "      <td>2018-10-27</td>\n",
       "      <td>surf</td>\n",
       "      <td>NaN</td>\n",
       "    </tr>\n",
       "    <tr>\n",
       "      <th>256</th>\n",
       "      <td>1256</td>\n",
       "      <td>Johnny</td>\n",
       "      <td>Wise</td>\n",
       "      <td>53</td>\n",
       "      <td>Chicago-Naperville-Elgin, IL-IN-WI MSA</td>\n",
       "      <td>2018-09-11</td>\n",
       "      <td>surf</td>\n",
       "      <td>NaN</td>\n",
       "    </tr>\n",
       "  </tbody>\n",
       "</table>\n",
       "</div>"
      ],
      "text/plain": [
       "     user_id first_name last_name  age  \\\n",
       "51      1051    Rosario     Gibbs   55   \n",
       "137     1137    Allegra   Hopkins   20   \n",
       "455     1455       Jude   Fischer   20   \n",
       "204     1204     Sherly      Levy   44   \n",
       "298     1298      Loyce    Cooley   53   \n",
       "107     1107       Lane      Cash   61   \n",
       "103     1103     Moises     Weeks   28   \n",
       "380     1380    Lajuana    Kelley   35   \n",
       "371     1371   Roderick    Slater   27   \n",
       "256     1256     Johnny      Wise   53   \n",
       "\n",
       "                                                 city   reg_date      plan  \\\n",
       "51             San Diego-Chula Vista-Carlsbad, CA MSA 2018-12-11      surf   \n",
       "137            Chicago-Naperville-Elgin, IL-IN-WI MSA 2018-10-02      surf   \n",
       "455                    Denver-Aurora-Lakewood, CO MSA 2018-08-13      surf   \n",
       "204            Chicago-Naperville-Elgin, IL-IN-WI MSA 2018-08-20  ultimate   \n",
       "298  Nashville-Davidson–Murfreesboro–Franklin, TN MSA 2018-09-21      surf   \n",
       "107         New York-Newark-Jersey City, NY-NJ-PA MSA 2018-11-15  ultimate   \n",
       "103                   Seattle-Tacoma-Bellevue, WA MSA 2018-07-01      surf   \n",
       "380            San Jose-Sunnyvale-Santa Clara, CA MSA 2018-09-04  ultimate   \n",
       "371           Portland-Vancouver-Hillsboro, OR-WA MSA 2018-10-27      surf   \n",
       "256            Chicago-Naperville-Elgin, IL-IN-WI MSA 2018-09-11      surf   \n",
       "\n",
       "     churn_date  \n",
       "51          NaN  \n",
       "137         NaN  \n",
       "455         NaN  \n",
       "204         NaN  \n",
       "298  2018-12-19  \n",
       "107         NaN  \n",
       "103         NaN  \n",
       "380         NaN  \n",
       "371         NaN  \n",
       "256         NaN  "
      ]
     },
     "execution_count": 6,
     "metadata": {},
     "output_type": "execute_result"
    }
   ],
   "source": [
    "# Print a sample of data for users\n",
    "users.sample(n=10)"
   ]
  },
  {
   "cell_type": "markdown",
   "metadata": {},
   "source": [
    "The users data matches the description provided for the project. \n",
    "Appropriate data types are used for each column.\n",
    "No missing values are present (except for churn_date for active users, which is expected)."
   ]
  },
  {
   "cell_type": "markdown",
   "metadata": {},
   "source": [
    "## Calls"
   ]
  },
  {
   "cell_type": "code",
   "execution_count": 7,
   "metadata": {
    "trusted": true
   },
   "outputs": [
    {
     "name": "stdout",
     "output_type": "stream",
     "text": [
      "Shape of the DataFrame: (137735, 4)\n",
      "\n",
      "First few rows:\n",
      "         id  user_id  call_date  duration\n",
      "0   1000_93     1000 2018-12-27      8.52\n",
      "1  1000_145     1000 2018-12-27     13.66\n",
      "2  1000_247     1000 2018-12-27     14.48\n",
      "3  1000_309     1000 2018-12-28      5.76\n",
      "4  1000_380     1000 2018-12-30      4.22\n",
      "\n",
      "Column names:\n",
      "Index(['id', 'user_id', 'call_date', 'duration'], dtype='object')\n",
      "\n",
      "Data types:\n",
      "id                   object\n",
      "user_id               int64\n",
      "call_date    datetime64[ns]\n",
      "duration            float64\n",
      "dtype: object\n",
      "\n",
      "Summary statistics:\n",
      "             user_id       duration\n",
      "count  137735.000000  137735.000000\n",
      "mean     1247.658046       6.745927\n",
      "std       139.416268       5.839241\n",
      "min      1000.000000       0.000000\n",
      "25%      1128.000000       1.290000\n",
      "50%      1247.000000       5.980000\n",
      "75%      1365.000000      10.690000\n",
      "max      1499.000000      37.600000\n",
      "\n",
      "Missing values:\n",
      "id           0\n",
      "user_id      0\n",
      "call_date    0\n",
      "duration     0\n",
      "dtype: int64\n",
      "\n",
      "Duplicate rows:\n",
      "Number of duplicate rows: 0\n",
      "\n",
      "Unique values in each column:\n",
      "id: 137735 unique values\n",
      "user_id: 481 unique values\n",
      "call_date: 351 unique values\n",
      "duration: 2802 unique values\n"
     ]
    }
   ],
   "source": [
    "# Print the general/summary information about the calls' DataFrame\n",
    "data_exploration(calls)"
   ]
  },
  {
   "cell_type": "code",
   "execution_count": 8,
   "metadata": {
    "trusted": true
   },
   "outputs": [
    {
     "data": {
      "text/html": [
       "<div>\n",
       "<style scoped>\n",
       "    .dataframe tbody tr th:only-of-type {\n",
       "        vertical-align: middle;\n",
       "    }\n",
       "\n",
       "    .dataframe tbody tr th {\n",
       "        vertical-align: top;\n",
       "    }\n",
       "\n",
       "    .dataframe thead th {\n",
       "        text-align: right;\n",
       "    }\n",
       "</style>\n",
       "<table border=\"1\" class=\"dataframe\">\n",
       "  <thead>\n",
       "    <tr style=\"text-align: right;\">\n",
       "      <th></th>\n",
       "      <th>id</th>\n",
       "      <th>user_id</th>\n",
       "      <th>call_date</th>\n",
       "      <th>duration</th>\n",
       "    </tr>\n",
       "  </thead>\n",
       "  <tbody>\n",
       "    <tr>\n",
       "      <th>132384</th>\n",
       "      <td>1476_335</td>\n",
       "      <td>1476</td>\n",
       "      <td>2018-11-11</td>\n",
       "      <td>7.20</td>\n",
       "    </tr>\n",
       "    <tr>\n",
       "      <th>44614</th>\n",
       "      <td>1160_630</td>\n",
       "      <td>1160</td>\n",
       "      <td>2018-10-10</td>\n",
       "      <td>0.00</td>\n",
       "    </tr>\n",
       "    <tr>\n",
       "      <th>136333</th>\n",
       "      <td>1494_175</td>\n",
       "      <td>1494</td>\n",
       "      <td>2018-12-21</td>\n",
       "      <td>3.02</td>\n",
       "    </tr>\n",
       "    <tr>\n",
       "      <th>74951</th>\n",
       "      <td>1264_269</td>\n",
       "      <td>1264</td>\n",
       "      <td>2018-05-15</td>\n",
       "      <td>3.14</td>\n",
       "    </tr>\n",
       "    <tr>\n",
       "      <th>54271</th>\n",
       "      <td>1196_152</td>\n",
       "      <td>1196</td>\n",
       "      <td>2018-06-04</td>\n",
       "      <td>0.00</td>\n",
       "    </tr>\n",
       "    <tr>\n",
       "      <th>58104</th>\n",
       "      <td>1209_686</td>\n",
       "      <td>1209</td>\n",
       "      <td>2018-09-07</td>\n",
       "      <td>10.86</td>\n",
       "    </tr>\n",
       "    <tr>\n",
       "      <th>94073</th>\n",
       "      <td>1335_303</td>\n",
       "      <td>1335</td>\n",
       "      <td>2018-11-22</td>\n",
       "      <td>8.80</td>\n",
       "    </tr>\n",
       "    <tr>\n",
       "      <th>41938</th>\n",
       "      <td>1153_851</td>\n",
       "      <td>1153</td>\n",
       "      <td>2018-11-13</td>\n",
       "      <td>14.44</td>\n",
       "    </tr>\n",
       "    <tr>\n",
       "      <th>103240</th>\n",
       "      <td>1365_436</td>\n",
       "      <td>1365</td>\n",
       "      <td>2018-10-07</td>\n",
       "      <td>14.16</td>\n",
       "    </tr>\n",
       "    <tr>\n",
       "      <th>64928</th>\n",
       "      <td>1236_200</td>\n",
       "      <td>1236</td>\n",
       "      <td>2018-04-27</td>\n",
       "      <td>7.43</td>\n",
       "    </tr>\n",
       "  </tbody>\n",
       "</table>\n",
       "</div>"
      ],
      "text/plain": [
       "              id  user_id  call_date  duration\n",
       "132384  1476_335     1476 2018-11-11      7.20\n",
       "44614   1160_630     1160 2018-10-10      0.00\n",
       "136333  1494_175     1494 2018-12-21      3.02\n",
       "74951   1264_269     1264 2018-05-15      3.14\n",
       "54271   1196_152     1196 2018-06-04      0.00\n",
       "58104   1209_686     1209 2018-09-07     10.86\n",
       "94073   1335_303     1335 2018-11-22      8.80\n",
       "41938   1153_851     1153 2018-11-13     14.44\n",
       "103240  1365_436     1365 2018-10-07     14.16\n",
       "64928   1236_200     1236 2018-04-27      7.43"
      ]
     },
     "execution_count": 8,
     "metadata": {},
     "output_type": "execute_result"
    }
   ],
   "source": [
    "# Print a sample of data for calls\n",
    "calls.sample(n=10)"
   ]
  },
  {
   "cell_type": "markdown",
   "metadata": {},
   "source": [
    " "
   ]
  },
  {
   "cell_type": "markdown",
   "metadata": {},
   "source": [
    "### Fix data"
   ]
  },
  {
   "cell_type": "code",
   "execution_count": 9,
   "metadata": {
    "trusted": true
   },
   "outputs": [
    {
     "data": {
      "text/html": [
       "<div>\n",
       "<style scoped>\n",
       "    .dataframe tbody tr th:only-of-type {\n",
       "        vertical-align: middle;\n",
       "    }\n",
       "\n",
       "    .dataframe tbody tr th {\n",
       "        vertical-align: top;\n",
       "    }\n",
       "\n",
       "    .dataframe thead th {\n",
       "        text-align: right;\n",
       "    }\n",
       "</style>\n",
       "<table border=\"1\" class=\"dataframe\">\n",
       "  <thead>\n",
       "    <tr style=\"text-align: right;\">\n",
       "      <th></th>\n",
       "      <th>id</th>\n",
       "      <th>user_id</th>\n",
       "      <th>call_date</th>\n",
       "      <th>duration</th>\n",
       "      <th>duration_rounded_up</th>\n",
       "    </tr>\n",
       "  </thead>\n",
       "  <tbody>\n",
       "    <tr>\n",
       "      <th>27434</th>\n",
       "      <td>1103_224</td>\n",
       "      <td>1103</td>\n",
       "      <td>2018-10-09</td>\n",
       "      <td>3.13</td>\n",
       "      <td>4</td>\n",
       "    </tr>\n",
       "    <tr>\n",
       "      <th>23149</th>\n",
       "      <td>1084_196</td>\n",
       "      <td>1084</td>\n",
       "      <td>2018-12-11</td>\n",
       "      <td>6.45</td>\n",
       "      <td>7</td>\n",
       "    </tr>\n",
       "    <tr>\n",
       "      <th>121262</th>\n",
       "      <td>1426_50</td>\n",
       "      <td>1426</td>\n",
       "      <td>2018-12-08</td>\n",
       "      <td>4.36</td>\n",
       "      <td>5</td>\n",
       "    </tr>\n",
       "    <tr>\n",
       "      <th>13745</th>\n",
       "      <td>1058_333</td>\n",
       "      <td>1058</td>\n",
       "      <td>2018-12-19</td>\n",
       "      <td>0.00</td>\n",
       "      <td>0</td>\n",
       "    </tr>\n",
       "    <tr>\n",
       "      <th>87241</th>\n",
       "      <td>1320_910</td>\n",
       "      <td>1320</td>\n",
       "      <td>2018-08-24</td>\n",
       "      <td>0.00</td>\n",
       "      <td>0</td>\n",
       "    </tr>\n",
       "    <tr>\n",
       "      <th>6829</th>\n",
       "      <td>1031_721</td>\n",
       "      <td>1031</td>\n",
       "      <td>2018-11-26</td>\n",
       "      <td>10.63</td>\n",
       "      <td>11</td>\n",
       "    </tr>\n",
       "    <tr>\n",
       "      <th>83626</th>\n",
       "      <td>1305_34</td>\n",
       "      <td>1305</td>\n",
       "      <td>2018-08-20</td>\n",
       "      <td>5.04</td>\n",
       "      <td>6</td>\n",
       "    </tr>\n",
       "    <tr>\n",
       "      <th>106730</th>\n",
       "      <td>1377_282</td>\n",
       "      <td>1377</td>\n",
       "      <td>2018-09-25</td>\n",
       "      <td>1.81</td>\n",
       "      <td>2</td>\n",
       "    </tr>\n",
       "    <tr>\n",
       "      <th>35457</th>\n",
       "      <td>1132_955</td>\n",
       "      <td>1132</td>\n",
       "      <td>2018-09-18</td>\n",
       "      <td>14.13</td>\n",
       "      <td>15</td>\n",
       "    </tr>\n",
       "    <tr>\n",
       "      <th>123936</th>\n",
       "      <td>1437_892</td>\n",
       "      <td>1437</td>\n",
       "      <td>2018-12-18</td>\n",
       "      <td>0.00</td>\n",
       "      <td>0</td>\n",
       "    </tr>\n",
       "  </tbody>\n",
       "</table>\n",
       "</div>"
      ],
      "text/plain": [
       "              id  user_id  call_date  duration  duration_rounded_up\n",
       "27434   1103_224     1103 2018-10-09      3.13                    4\n",
       "23149   1084_196     1084 2018-12-11      6.45                    7\n",
       "121262   1426_50     1426 2018-12-08      4.36                    5\n",
       "13745   1058_333     1058 2018-12-19      0.00                    0\n",
       "87241   1320_910     1320 2018-08-24      0.00                    0\n",
       "6829    1031_721     1031 2018-11-26     10.63                   11\n",
       "83626    1305_34     1305 2018-08-20      5.04                    6\n",
       "106730  1377_282     1377 2018-09-25      1.81                    2\n",
       "35457   1132_955     1132 2018-09-18     14.13                   15\n",
       "123936  1437_892     1437 2018-12-18      0.00                    0"
      ]
     },
     "execution_count": 9,
     "metadata": {},
     "output_type": "execute_result"
    }
   ],
   "source": [
    "# new column for rounded-up duration\n",
    "calls['duration_rounded_up'] = np.ceil(calls['duration']).astype(int)\n",
    "# checking the results\n",
    "calls.sample(n=10)"
   ]
  },
  {
   "cell_type": "markdown",
   "metadata": {},
   "source": [
    "The calls data appears to be in good shape.\n",
    "\n",
    "Matches Project Description: The data accurately reflects call records, including id, call_date, duration, and user_id, as described in the project instructions.\n",
    "\n",
    "Data Quality:\n",
    "\n",
    "No apparent issues with missing values or inconsistencies.\n",
    "Data types seem appropriate.\n",
    "Enhancement: Addressed the need to account for Megaline's billing policy by creating a new column, duration_rounded_up, which rounds call durations up to the nearest minute. This ensures accurate calculations for call charges."
   ]
  },
  {
   "cell_type": "markdown",
   "metadata": {},
   "source": [
    "## Messages"
   ]
  },
  {
   "cell_type": "code",
   "execution_count": 10,
   "metadata": {
    "trusted": true
   },
   "outputs": [
    {
     "name": "stdout",
     "output_type": "stream",
     "text": [
      "Shape of the DataFrame: (76051, 3)\n",
      "\n",
      "First few rows:\n",
      "         id  user_id message_date\n",
      "0  1000_125     1000   2018-12-27\n",
      "1  1000_160     1000   2018-12-31\n",
      "2  1000_223     1000   2018-12-31\n",
      "3  1000_251     1000   2018-12-27\n",
      "4  1000_255     1000   2018-12-26\n",
      "\n",
      "Column names:\n",
      "Index(['id', 'user_id', 'message_date'], dtype='object')\n",
      "\n",
      "Data types:\n",
      "id                      object\n",
      "user_id                  int64\n",
      "message_date    datetime64[ns]\n",
      "dtype: object\n",
      "\n",
      "Summary statistics:\n",
      "            user_id\n",
      "count  76051.000000\n",
      "mean    1245.972768\n",
      "std      139.843635\n",
      "min     1000.000000\n",
      "25%     1123.000000\n",
      "50%     1251.000000\n",
      "75%     1362.000000\n",
      "max     1497.000000\n",
      "\n",
      "Missing values:\n",
      "id              0\n",
      "user_id         0\n",
      "message_date    0\n",
      "dtype: int64\n",
      "\n",
      "Duplicate rows:\n",
      "Number of duplicate rows: 0\n",
      "\n",
      "Unique values in each column:\n",
      "id: 76051 unique values\n",
      "user_id: 402 unique values\n",
      "message_date: 351 unique values\n"
     ]
    }
   ],
   "source": [
    "# Print the general/summary information about the messages' DataFrame\n",
    "data_exploration(messages)"
   ]
  },
  {
   "cell_type": "code",
   "execution_count": 11,
   "metadata": {
    "trusted": true
   },
   "outputs": [
    {
     "data": {
      "text/html": [
       "<div>\n",
       "<style scoped>\n",
       "    .dataframe tbody tr th:only-of-type {\n",
       "        vertical-align: middle;\n",
       "    }\n",
       "\n",
       "    .dataframe tbody tr th {\n",
       "        vertical-align: top;\n",
       "    }\n",
       "\n",
       "    .dataframe thead th {\n",
       "        text-align: right;\n",
       "    }\n",
       "</style>\n",
       "<table border=\"1\" class=\"dataframe\">\n",
       "  <thead>\n",
       "    <tr style=\"text-align: right;\">\n",
       "      <th></th>\n",
       "      <th>id</th>\n",
       "      <th>user_id</th>\n",
       "      <th>message_date</th>\n",
       "    </tr>\n",
       "  </thead>\n",
       "  <tbody>\n",
       "    <tr>\n",
       "      <th>47799</th>\n",
       "      <td>1324_519</td>\n",
       "      <td>1324</td>\n",
       "      <td>2018-12-22</td>\n",
       "    </tr>\n",
       "    <tr>\n",
       "      <th>51181</th>\n",
       "      <td>1331_356</td>\n",
       "      <td>1331</td>\n",
       "      <td>2018-09-04</td>\n",
       "    </tr>\n",
       "    <tr>\n",
       "      <th>40537</th>\n",
       "      <td>1261_184</td>\n",
       "      <td>1261</td>\n",
       "      <td>2018-08-09</td>\n",
       "    </tr>\n",
       "    <tr>\n",
       "      <th>33387</th>\n",
       "      <td>1211_63</td>\n",
       "      <td>1211</td>\n",
       "      <td>2018-10-20</td>\n",
       "    </tr>\n",
       "    <tr>\n",
       "      <th>1575</th>\n",
       "      <td>1016_30</td>\n",
       "      <td>1016</td>\n",
       "      <td>2018-11-27</td>\n",
       "    </tr>\n",
       "    <tr>\n",
       "      <th>73381</th>\n",
       "      <td>1470_1009</td>\n",
       "      <td>1470</td>\n",
       "      <td>2018-08-17</td>\n",
       "    </tr>\n",
       "    <tr>\n",
       "      <th>19983</th>\n",
       "      <td>1127_39</td>\n",
       "      <td>1127</td>\n",
       "      <td>2018-12-11</td>\n",
       "    </tr>\n",
       "    <tr>\n",
       "      <th>25949</th>\n",
       "      <td>1155_343</td>\n",
       "      <td>1155</td>\n",
       "      <td>2018-08-22</td>\n",
       "    </tr>\n",
       "    <tr>\n",
       "      <th>46685</th>\n",
       "      <td>1318_59</td>\n",
       "      <td>1318</td>\n",
       "      <td>2018-12-29</td>\n",
       "    </tr>\n",
       "    <tr>\n",
       "      <th>46383</th>\n",
       "      <td>1316_234</td>\n",
       "      <td>1316</td>\n",
       "      <td>2018-06-11</td>\n",
       "    </tr>\n",
       "  </tbody>\n",
       "</table>\n",
       "</div>"
      ],
      "text/plain": [
       "              id  user_id message_date\n",
       "47799   1324_519     1324   2018-12-22\n",
       "51181   1331_356     1331   2018-09-04\n",
       "40537   1261_184     1261   2018-08-09\n",
       "33387    1211_63     1211   2018-10-20\n",
       "1575     1016_30     1016   2018-11-27\n",
       "73381  1470_1009     1470   2018-08-17\n",
       "19983    1127_39     1127   2018-12-11\n",
       "25949   1155_343     1155   2018-08-22\n",
       "46685    1318_59     1318   2018-12-29\n",
       "46383   1316_234     1316   2018-06-11"
      ]
     },
     "execution_count": 11,
     "metadata": {},
     "output_type": "execute_result"
    }
   ],
   "source": [
    "# Print a sample of data for messages\n",
    "messages.sample(n=10)"
   ]
  },
  {
   "cell_type": "markdown",
   "metadata": {},
   "source": [
    "The messages data matches the provided description data. No apparent issues with missing values or inconsistencies."
   ]
  },
  {
   "cell_type": "markdown",
   "metadata": {},
   "source": [
    "## Internet"
   ]
  },
  {
   "cell_type": "code",
   "execution_count": 12,
   "metadata": {
    "trusted": true
   },
   "outputs": [
    {
     "name": "stdout",
     "output_type": "stream",
     "text": [
      "Shape of the DataFrame: (104825, 4)\n",
      "\n",
      "First few rows:\n",
      "         id  user_id session_date  mb_used\n",
      "0   1000_13     1000   2018-12-29    89.86\n",
      "1  1000_204     1000   2018-12-31     0.00\n",
      "2  1000_379     1000   2018-12-28   660.40\n",
      "3  1000_413     1000   2018-12-26   270.99\n",
      "4  1000_442     1000   2018-12-27   880.22\n",
      "\n",
      "Column names:\n",
      "Index(['id', 'user_id', 'session_date', 'mb_used'], dtype='object')\n",
      "\n",
      "Data types:\n",
      "id                      object\n",
      "user_id                  int64\n",
      "session_date    datetime64[ns]\n",
      "mb_used                float64\n",
      "dtype: object\n",
      "\n",
      "Summary statistics:\n",
      "             user_id        mb_used\n",
      "count  104825.000000  104825.000000\n",
      "mean     1242.496361     366.713701\n",
      "std       142.053913     277.170542\n",
      "min      1000.000000       0.000000\n",
      "25%      1122.000000     136.080000\n",
      "50%      1236.000000     343.980000\n",
      "75%      1367.000000     554.610000\n",
      "max      1499.000000    1693.470000\n",
      "\n",
      "Missing values:\n",
      "id              0\n",
      "user_id         0\n",
      "session_date    0\n",
      "mb_used         0\n",
      "dtype: int64\n",
      "\n",
      "Duplicate rows:\n",
      "Number of duplicate rows: 0\n",
      "\n",
      "Unique values in each column:\n",
      "id: 104825 unique values\n",
      "user_id: 489 unique values\n",
      "session_date: 351 unique values\n",
      "mb_used: 57624 unique values\n"
     ]
    }
   ],
   "source": [
    "# Print the general/summary information about the internet DataFrame\n",
    "data_exploration(internet)"
   ]
  },
  {
   "cell_type": "code",
   "execution_count": 13,
   "metadata": {
    "trusted": true
   },
   "outputs": [
    {
     "data": {
      "text/html": [
       "<div>\n",
       "<style scoped>\n",
       "    .dataframe tbody tr th:only-of-type {\n",
       "        vertical-align: middle;\n",
       "    }\n",
       "\n",
       "    .dataframe tbody tr th {\n",
       "        vertical-align: top;\n",
       "    }\n",
       "\n",
       "    .dataframe thead th {\n",
       "        text-align: right;\n",
       "    }\n",
       "</style>\n",
       "<table border=\"1\" class=\"dataframe\">\n",
       "  <thead>\n",
       "    <tr style=\"text-align: right;\">\n",
       "      <th></th>\n",
       "      <th>id</th>\n",
       "      <th>user_id</th>\n",
       "      <th>session_date</th>\n",
       "      <th>mb_used</th>\n",
       "    </tr>\n",
       "  </thead>\n",
       "  <tbody>\n",
       "    <tr>\n",
       "      <th>66876</th>\n",
       "      <td>1312_99</td>\n",
       "      <td>1312</td>\n",
       "      <td>2018-05-25</td>\n",
       "      <td>166.47</td>\n",
       "    </tr>\n",
       "    <tr>\n",
       "      <th>84103</th>\n",
       "      <td>1392_71</td>\n",
       "      <td>1392</td>\n",
       "      <td>2018-11-23</td>\n",
       "      <td>147.99</td>\n",
       "    </tr>\n",
       "    <tr>\n",
       "      <th>4928</th>\n",
       "      <td>1028_501</td>\n",
       "      <td>1028</td>\n",
       "      <td>2018-04-05</td>\n",
       "      <td>147.44</td>\n",
       "    </tr>\n",
       "    <tr>\n",
       "      <th>42720</th>\n",
       "      <td>1189_290</td>\n",
       "      <td>1189</td>\n",
       "      <td>2018-12-16</td>\n",
       "      <td>470.16</td>\n",
       "    </tr>\n",
       "    <tr>\n",
       "      <th>82520</th>\n",
       "      <td>1385_271</td>\n",
       "      <td>1385</td>\n",
       "      <td>2018-08-26</td>\n",
       "      <td>605.95</td>\n",
       "    </tr>\n",
       "    <tr>\n",
       "      <th>54811</th>\n",
       "      <td>1248_27</td>\n",
       "      <td>1248</td>\n",
       "      <td>2018-11-29</td>\n",
       "      <td>0.00</td>\n",
       "    </tr>\n",
       "    <tr>\n",
       "      <th>57794</th>\n",
       "      <td>1261_253</td>\n",
       "      <td>1261</td>\n",
       "      <td>2018-04-26</td>\n",
       "      <td>630.33</td>\n",
       "    </tr>\n",
       "    <tr>\n",
       "      <th>14981</th>\n",
       "      <td>1068_97</td>\n",
       "      <td>1068</td>\n",
       "      <td>2018-11-28</td>\n",
       "      <td>120.30</td>\n",
       "    </tr>\n",
       "    <tr>\n",
       "      <th>83419</th>\n",
       "      <td>1389_341</td>\n",
       "      <td>1389</td>\n",
       "      <td>2018-09-15</td>\n",
       "      <td>516.21</td>\n",
       "    </tr>\n",
       "    <tr>\n",
       "      <th>93666</th>\n",
       "      <td>1437_115</td>\n",
       "      <td>1437</td>\n",
       "      <td>2018-11-17</td>\n",
       "      <td>442.54</td>\n",
       "    </tr>\n",
       "  </tbody>\n",
       "</table>\n",
       "</div>"
      ],
      "text/plain": [
       "             id  user_id session_date  mb_used\n",
       "66876   1312_99     1312   2018-05-25   166.47\n",
       "84103   1392_71     1392   2018-11-23   147.99\n",
       "4928   1028_501     1028   2018-04-05   147.44\n",
       "42720  1189_290     1189   2018-12-16   470.16\n",
       "82520  1385_271     1385   2018-08-26   605.95\n",
       "54811   1248_27     1248   2018-11-29     0.00\n",
       "57794  1261_253     1261   2018-04-26   630.33\n",
       "14981   1068_97     1068   2018-11-28   120.30\n",
       "83419  1389_341     1389   2018-09-15   516.21\n",
       "93666  1437_115     1437   2018-11-17   442.54"
      ]
     },
     "execution_count": 13,
     "metadata": {},
     "output_type": "execute_result"
    }
   ],
   "source": [
    "# Print a sample of data for the internet traffic\n",
    "internet.sample(n=10)"
   ]
  },
  {
   "cell_type": "markdown",
   "metadata": {},
   "source": [
    "### Fix data"
   ]
  },
  {
   "cell_type": "code",
   "execution_count": 14,
   "metadata": {
    "trusted": true
   },
   "outputs": [
    {
     "data": {
      "text/html": [
       "<div>\n",
       "<style scoped>\n",
       "    .dataframe tbody tr th:only-of-type {\n",
       "        vertical-align: middle;\n",
       "    }\n",
       "\n",
       "    .dataframe tbody tr th {\n",
       "        vertical-align: top;\n",
       "    }\n",
       "\n",
       "    .dataframe thead th {\n",
       "        text-align: right;\n",
       "    }\n",
       "</style>\n",
       "<table border=\"1\" class=\"dataframe\">\n",
       "  <thead>\n",
       "    <tr style=\"text-align: right;\">\n",
       "      <th></th>\n",
       "      <th>id</th>\n",
       "      <th>user_id</th>\n",
       "      <th>session_date</th>\n",
       "      <th>mb_used</th>\n",
       "      <th>gb_used</th>\n",
       "    </tr>\n",
       "  </thead>\n",
       "  <tbody>\n",
       "    <tr>\n",
       "      <th>0</th>\n",
       "      <td>1000_13</td>\n",
       "      <td>1000</td>\n",
       "      <td>2018-12-29</td>\n",
       "      <td>89.86</td>\n",
       "      <td>0.087754</td>\n",
       "    </tr>\n",
       "    <tr>\n",
       "      <th>1</th>\n",
       "      <td>1000_204</td>\n",
       "      <td>1000</td>\n",
       "      <td>2018-12-31</td>\n",
       "      <td>0.00</td>\n",
       "      <td>0.000000</td>\n",
       "    </tr>\n",
       "    <tr>\n",
       "      <th>2</th>\n",
       "      <td>1000_379</td>\n",
       "      <td>1000</td>\n",
       "      <td>2018-12-28</td>\n",
       "      <td>660.40</td>\n",
       "      <td>0.644922</td>\n",
       "    </tr>\n",
       "    <tr>\n",
       "      <th>3</th>\n",
       "      <td>1000_413</td>\n",
       "      <td>1000</td>\n",
       "      <td>2018-12-26</td>\n",
       "      <td>270.99</td>\n",
       "      <td>0.264639</td>\n",
       "    </tr>\n",
       "    <tr>\n",
       "      <th>4</th>\n",
       "      <td>1000_442</td>\n",
       "      <td>1000</td>\n",
       "      <td>2018-12-27</td>\n",
       "      <td>880.22</td>\n",
       "      <td>0.859590</td>\n",
       "    </tr>\n",
       "  </tbody>\n",
       "</table>\n",
       "</div>"
      ],
      "text/plain": [
       "         id  user_id session_date  mb_used   gb_used\n",
       "0   1000_13     1000   2018-12-29    89.86  0.087754\n",
       "1  1000_204     1000   2018-12-31     0.00  0.000000\n",
       "2  1000_379     1000   2018-12-28   660.40  0.644922\n",
       "3  1000_413     1000   2018-12-26   270.99  0.264639\n",
       "4  1000_442     1000   2018-12-27   880.22  0.859590"
      ]
     },
     "execution_count": 14,
     "metadata": {},
     "output_type": "execute_result"
    }
   ],
   "source": [
    "# Creating a new column for gigabytes, and rounding it up\n",
    "internet['gb_used'] = internet['mb_used'] / 1024\n",
    "# Checking the results\n",
    "internet.head()"
   ]
  },
  {
   "cell_type": "markdown",
   "metadata": {},
   "source": [
    "## Study plan conditions"
   ]
  },
  {
   "cell_type": "code",
   "execution_count": 15,
   "metadata": {
    "trusted": true
   },
   "outputs": [
    {
     "data": {
      "text/html": [
       "<div>\n",
       "<style scoped>\n",
       "    .dataframe tbody tr th:only-of-type {\n",
       "        vertical-align: middle;\n",
       "    }\n",
       "\n",
       "    .dataframe tbody tr th {\n",
       "        vertical-align: top;\n",
       "    }\n",
       "\n",
       "    .dataframe thead th {\n",
       "        text-align: right;\n",
       "    }\n",
       "</style>\n",
       "<table border=\"1\" class=\"dataframe\">\n",
       "  <thead>\n",
       "    <tr style=\"text-align: right;\">\n",
       "      <th></th>\n",
       "      <th>messages_included</th>\n",
       "      <th>mb_per_month_included</th>\n",
       "      <th>minutes_included</th>\n",
       "      <th>usd_monthly_pay</th>\n",
       "      <th>usd_per_gb</th>\n",
       "      <th>usd_per_message</th>\n",
       "      <th>usd_per_minute</th>\n",
       "      <th>plan_name</th>\n",
       "    </tr>\n",
       "  </thead>\n",
       "  <tbody>\n",
       "    <tr>\n",
       "      <th>0</th>\n",
       "      <td>50</td>\n",
       "      <td>15360</td>\n",
       "      <td>500</td>\n",
       "      <td>20</td>\n",
       "      <td>10</td>\n",
       "      <td>0.03</td>\n",
       "      <td>0.03</td>\n",
       "      <td>surf</td>\n",
       "    </tr>\n",
       "    <tr>\n",
       "      <th>1</th>\n",
       "      <td>1000</td>\n",
       "      <td>30720</td>\n",
       "      <td>3000</td>\n",
       "      <td>70</td>\n",
       "      <td>7</td>\n",
       "      <td>0.01</td>\n",
       "      <td>0.01</td>\n",
       "      <td>ultimate</td>\n",
       "    </tr>\n",
       "  </tbody>\n",
       "</table>\n",
       "</div>"
      ],
      "text/plain": [
       "   messages_included  mb_per_month_included  minutes_included  \\\n",
       "0                 50                  15360               500   \n",
       "1               1000                  30720              3000   \n",
       "\n",
       "   usd_monthly_pay  usd_per_gb  usd_per_message  usd_per_minute plan_name  \n",
       "0               20          10             0.03            0.03      surf  \n",
       "1               70           7             0.01            0.01  ultimate  "
      ]
     },
     "execution_count": 15,
     "metadata": {},
     "output_type": "execute_result"
    }
   ],
   "source": [
    "# Print out the plan conditions and make sure they are clear for you\n",
    "plans.head()"
   ]
  },
  {
   "cell_type": "markdown",
   "metadata": {},
   "source": [
    "## Aggregate data per user"
   ]
  },
  {
   "cell_type": "code",
   "execution_count": 16,
   "metadata": {
    "trusted": true
   },
   "outputs": [
    {
     "data": {
      "text/html": [
       "<div>\n",
       "<style scoped>\n",
       "    .dataframe tbody tr th:only-of-type {\n",
       "        vertical-align: middle;\n",
       "    }\n",
       "\n",
       "    .dataframe tbody tr th {\n",
       "        vertical-align: top;\n",
       "    }\n",
       "\n",
       "    .dataframe thead th {\n",
       "        text-align: right;\n",
       "    }\n",
       "</style>\n",
       "<table border=\"1\" class=\"dataframe\">\n",
       "  <thead>\n",
       "    <tr style=\"text-align: right;\">\n",
       "      <th></th>\n",
       "      <th>user_id</th>\n",
       "      <th>month</th>\n",
       "      <th>call_count</th>\n",
       "    </tr>\n",
       "  </thead>\n",
       "  <tbody>\n",
       "    <tr>\n",
       "      <th>2166</th>\n",
       "      <td>1477</td>\n",
       "      <td>12</td>\n",
       "      <td>49</td>\n",
       "    </tr>\n",
       "    <tr>\n",
       "      <th>328</th>\n",
       "      <td>1071</td>\n",
       "      <td>8</td>\n",
       "      <td>74</td>\n",
       "    </tr>\n",
       "    <tr>\n",
       "      <th>397</th>\n",
       "      <td>1082</td>\n",
       "      <td>12</td>\n",
       "      <td>96</td>\n",
       "    </tr>\n",
       "    <tr>\n",
       "      <th>1961</th>\n",
       "      <td>1427</td>\n",
       "      <td>11</td>\n",
       "      <td>42</td>\n",
       "    </tr>\n",
       "    <tr>\n",
       "      <th>1514</th>\n",
       "      <td>1335</td>\n",
       "      <td>8</td>\n",
       "      <td>63</td>\n",
       "    </tr>\n",
       "    <tr>\n",
       "      <th>704</th>\n",
       "      <td>1153</td>\n",
       "      <td>7</td>\n",
       "      <td>79</td>\n",
       "    </tr>\n",
       "    <tr>\n",
       "      <th>1824</th>\n",
       "      <td>1400</td>\n",
       "      <td>5</td>\n",
       "      <td>69</td>\n",
       "    </tr>\n",
       "    <tr>\n",
       "      <th>498</th>\n",
       "      <td>1107</td>\n",
       "      <td>11</td>\n",
       "      <td>14</td>\n",
       "    </tr>\n",
       "    <tr>\n",
       "      <th>475</th>\n",
       "      <td>1101</td>\n",
       "      <td>8</td>\n",
       "      <td>54</td>\n",
       "    </tr>\n",
       "    <tr>\n",
       "      <th>803</th>\n",
       "      <td>1171</td>\n",
       "      <td>11</td>\n",
       "      <td>37</td>\n",
       "    </tr>\n",
       "  </tbody>\n",
       "</table>\n",
       "</div>"
      ],
      "text/plain": [
       "      user_id  month  call_count\n",
       "2166     1477     12          49\n",
       "328      1071      8          74\n",
       "397      1082     12          96\n",
       "1961     1427     11          42\n",
       "1514     1335      8          63\n",
       "704      1153      7          79\n",
       "1824     1400      5          69\n",
       "498      1107     11          14\n",
       "475      1101      8          54\n",
       "803      1171     11          37"
      ]
     },
     "execution_count": 16,
     "metadata": {},
     "output_type": "execute_result"
    }
   ],
   "source": [
    "# Calculate the number of calls made by each user per month. Save the result.\n",
    "# Merge users and calls DataFrames on 'user_id'\n",
    "merged_calls = pd.merge(users, calls, on='user_id')\n",
    "\n",
    "# Create a new column 'month' to group by\n",
    "merged_calls['month'] = merged_calls['call_date'].dt.month\n",
    "\n",
    "# Calculate the number of calls made by each user per month\n",
    "calls_per_month_per_user = merged_calls.groupby(['user_id', 'month'])['id'].count().reset_index()\n",
    "\n",
    "# Rename the 'id' column to 'call_count'\n",
    "calls_per_month_per_user.rename(columns={'id': 'call_count'}, inplace=True)\n",
    "\n",
    "# Checking the results\n",
    "calls_per_month_per_user.sample(n=10)"
   ]
  },
  {
   "cell_type": "code",
   "execution_count": 17,
   "metadata": {
    "trusted": true
   },
   "outputs": [
    {
     "data": {
      "text/html": [
       "<div>\n",
       "<style scoped>\n",
       "    .dataframe tbody tr th:only-of-type {\n",
       "        vertical-align: middle;\n",
       "    }\n",
       "\n",
       "    .dataframe tbody tr th {\n",
       "        vertical-align: top;\n",
       "    }\n",
       "\n",
       "    .dataframe thead th {\n",
       "        text-align: right;\n",
       "    }\n",
       "</style>\n",
       "<table border=\"1\" class=\"dataframe\">\n",
       "  <thead>\n",
       "    <tr style=\"text-align: right;\">\n",
       "      <th></th>\n",
       "      <th>user_id</th>\n",
       "      <th>month</th>\n",
       "      <th>total_minutes</th>\n",
       "    </tr>\n",
       "  </thead>\n",
       "  <tbody>\n",
       "    <tr>\n",
       "      <th>1671</th>\n",
       "      <td>1366</td>\n",
       "      <td>9</td>\n",
       "      <td>608</td>\n",
       "    </tr>\n",
       "    <tr>\n",
       "      <th>1971</th>\n",
       "      <td>1432</td>\n",
       "      <td>10</td>\n",
       "      <td>655</td>\n",
       "    </tr>\n",
       "    <tr>\n",
       "      <th>2131</th>\n",
       "      <td>1470</td>\n",
       "      <td>7</td>\n",
       "      <td>524</td>\n",
       "    </tr>\n",
       "    <tr>\n",
       "      <th>491</th>\n",
       "      <td>1106</td>\n",
       "      <td>6</td>\n",
       "      <td>506</td>\n",
       "    </tr>\n",
       "    <tr>\n",
       "      <th>1203</th>\n",
       "      <td>1259</td>\n",
       "      <td>9</td>\n",
       "      <td>147</td>\n",
       "    </tr>\n",
       "    <tr>\n",
       "      <th>1661</th>\n",
       "      <td>1364</td>\n",
       "      <td>11</td>\n",
       "      <td>413</td>\n",
       "    </tr>\n",
       "    <tr>\n",
       "      <th>193</th>\n",
       "      <td>1048</td>\n",
       "      <td>11</td>\n",
       "      <td>259</td>\n",
       "    </tr>\n",
       "    <tr>\n",
       "      <th>346</th>\n",
       "      <td>1073</td>\n",
       "      <td>11</td>\n",
       "      <td>316</td>\n",
       "    </tr>\n",
       "    <tr>\n",
       "      <th>368</th>\n",
       "      <td>1077</td>\n",
       "      <td>9</td>\n",
       "      <td>856</td>\n",
       "    </tr>\n",
       "    <tr>\n",
       "      <th>777</th>\n",
       "      <td>1166</td>\n",
       "      <td>10</td>\n",
       "      <td>179</td>\n",
       "    </tr>\n",
       "  </tbody>\n",
       "</table>\n",
       "</div>"
      ],
      "text/plain": [
       "      user_id  month  total_minutes\n",
       "1671     1366      9            608\n",
       "1971     1432     10            655\n",
       "2131     1470      7            524\n",
       "491      1106      6            506\n",
       "1203     1259      9            147\n",
       "1661     1364     11            413\n",
       "193      1048     11            259\n",
       "346      1073     11            316\n",
       "368      1077      9            856\n",
       "777      1166     10            179"
      ]
     },
     "execution_count": 17,
     "metadata": {},
     "output_type": "execute_result"
    }
   ],
   "source": [
    "# Calculate the amount of minutes spent by each user per month. Save the result.\n",
    "min_spent_by_user = merged_calls.groupby(['user_id', 'month'])['duration_rounded_up'].sum().reset_index()\n",
    "\n",
    "# Rename the 'duration_rounded_up' column for clarity\n",
    "min_spent_by_user.rename(columns={'duration_rounded_up': 'total_minutes'}, inplace=True)\n",
    "\n",
    "# Checking the results\n",
    "min_spent_by_user.sample(n=10)\n"
   ]
  },
  {
   "cell_type": "code",
   "execution_count": 18,
   "metadata": {
    "trusted": true
   },
   "outputs": [
    {
     "data": {
      "text/html": [
       "<div>\n",
       "<style scoped>\n",
       "    .dataframe tbody tr th:only-of-type {\n",
       "        vertical-align: middle;\n",
       "    }\n",
       "\n",
       "    .dataframe tbody tr th {\n",
       "        vertical-align: top;\n",
       "    }\n",
       "\n",
       "    .dataframe thead th {\n",
       "        text-align: right;\n",
       "    }\n",
       "</style>\n",
       "<table border=\"1\" class=\"dataframe\">\n",
       "  <thead>\n",
       "    <tr style=\"text-align: right;\">\n",
       "      <th></th>\n",
       "      <th>user_id</th>\n",
       "      <th>month</th>\n",
       "      <th>message_count</th>\n",
       "    </tr>\n",
       "  </thead>\n",
       "  <tbody>\n",
       "    <tr>\n",
       "      <th>1792</th>\n",
       "      <td>1492</td>\n",
       "      <td>11</td>\n",
       "      <td>31</td>\n",
       "    </tr>\n",
       "    <tr>\n",
       "      <th>623</th>\n",
       "      <td>1167</td>\n",
       "      <td>11</td>\n",
       "      <td>41</td>\n",
       "    </tr>\n",
       "    <tr>\n",
       "      <th>1407</th>\n",
       "      <td>1377</td>\n",
       "      <td>8</td>\n",
       "      <td>6</td>\n",
       "    </tr>\n",
       "    <tr>\n",
       "      <th>1541</th>\n",
       "      <td>1417</td>\n",
       "      <td>8</td>\n",
       "      <td>12</td>\n",
       "    </tr>\n",
       "    <tr>\n",
       "      <th>1788</th>\n",
       "      <td>1491</td>\n",
       "      <td>11</td>\n",
       "      <td>46</td>\n",
       "    </tr>\n",
       "    <tr>\n",
       "      <th>802</th>\n",
       "      <td>1214</td>\n",
       "      <td>2</td>\n",
       "      <td>15</td>\n",
       "    </tr>\n",
       "    <tr>\n",
       "      <th>598</th>\n",
       "      <td>1162</td>\n",
       "      <td>11</td>\n",
       "      <td>34</td>\n",
       "    </tr>\n",
       "    <tr>\n",
       "      <th>1485</th>\n",
       "      <td>1399</td>\n",
       "      <td>10</td>\n",
       "      <td>23</td>\n",
       "    </tr>\n",
       "    <tr>\n",
       "      <th>549</th>\n",
       "      <td>1145</td>\n",
       "      <td>12</td>\n",
       "      <td>61</td>\n",
       "    </tr>\n",
       "    <tr>\n",
       "      <th>627</th>\n",
       "      <td>1170</td>\n",
       "      <td>9</td>\n",
       "      <td>3</td>\n",
       "    </tr>\n",
       "  </tbody>\n",
       "</table>\n",
       "</div>"
      ],
      "text/plain": [
       "      user_id  month  message_count\n",
       "1792     1492     11             31\n",
       "623      1167     11             41\n",
       "1407     1377      8              6\n",
       "1541     1417      8             12\n",
       "1788     1491     11             46\n",
       "802      1214      2             15\n",
       "598      1162     11             34\n",
       "1485     1399     10             23\n",
       "549      1145     12             61\n",
       "627      1170      9              3"
      ]
     },
     "execution_count": 18,
     "metadata": {},
     "output_type": "execute_result"
    }
   ],
   "source": [
    "# Calculate the number of messages sent by each user per month. Save the result.\n",
    "# Merge users and messages DataFrames on 'user_id'\n",
    "merged_messages = pd.merge(users, messages, on='user_id')\n",
    "\n",
    "# Extract month from 'message_date'\n",
    "merged_messages['month'] = merged_messages['message_date'].dt.month\n",
    "\n",
    "# Calculate the number of messages sent by each user per month\n",
    "messages_per_month_per_user = merged_messages.groupby(['user_id', 'month'])['id'].count().reset_index()\n",
    "\n",
    "# Rename the 'id' column to 'message_count'\n",
    "messages_per_month_per_user.rename(columns={'id': 'message_count'}, inplace=True)\n",
    "\n",
    "# Checking the results\n",
    "messages_per_month_per_user.sample(n=10)"
   ]
  },
  {
   "cell_type": "code",
   "execution_count": 19,
   "metadata": {
    "trusted": true
   },
   "outputs": [
    {
     "data": {
      "text/html": [
       "<div>\n",
       "<style scoped>\n",
       "    .dataframe tbody tr th:only-of-type {\n",
       "        vertical-align: middle;\n",
       "    }\n",
       "\n",
       "    .dataframe tbody tr th {\n",
       "        vertical-align: top;\n",
       "    }\n",
       "\n",
       "    .dataframe thead th {\n",
       "        text-align: right;\n",
       "    }\n",
       "</style>\n",
       "<table border=\"1\" class=\"dataframe\">\n",
       "  <thead>\n",
       "    <tr style=\"text-align: right;\">\n",
       "      <th></th>\n",
       "      <th>user_id</th>\n",
       "      <th>month</th>\n",
       "      <th>gb_used</th>\n",
       "    </tr>\n",
       "  </thead>\n",
       "  <tbody>\n",
       "    <tr>\n",
       "      <th>512</th>\n",
       "      <td>1109</td>\n",
       "      <td>9</td>\n",
       "      <td>12.0</td>\n",
       "    </tr>\n",
       "    <tr>\n",
       "      <th>1652</th>\n",
       "      <td>1359</td>\n",
       "      <td>2</td>\n",
       "      <td>20.0</td>\n",
       "    </tr>\n",
       "    <tr>\n",
       "      <th>1228</th>\n",
       "      <td>1259</td>\n",
       "      <td>7</td>\n",
       "      <td>3.0</td>\n",
       "    </tr>\n",
       "    <tr>\n",
       "      <th>2106</th>\n",
       "      <td>1458</td>\n",
       "      <td>10</td>\n",
       "      <td>18.0</td>\n",
       "    </tr>\n",
       "    <tr>\n",
       "      <th>1162</th>\n",
       "      <td>1247</td>\n",
       "      <td>12</td>\n",
       "      <td>26.0</td>\n",
       "    </tr>\n",
       "    <tr>\n",
       "      <th>1969</th>\n",
       "      <td>1421</td>\n",
       "      <td>11</td>\n",
       "      <td>17.0</td>\n",
       "    </tr>\n",
       "    <tr>\n",
       "      <th>1874</th>\n",
       "      <td>1403</td>\n",
       "      <td>7</td>\n",
       "      <td>18.0</td>\n",
       "    </tr>\n",
       "    <tr>\n",
       "      <th>1142</th>\n",
       "      <td>1244</td>\n",
       "      <td>12</td>\n",
       "      <td>20.0</td>\n",
       "    </tr>\n",
       "    <tr>\n",
       "      <th>1038</th>\n",
       "      <td>1217</td>\n",
       "      <td>10</td>\n",
       "      <td>21.0</td>\n",
       "    </tr>\n",
       "    <tr>\n",
       "      <th>1023</th>\n",
       "      <td>1214</td>\n",
       "      <td>6</td>\n",
       "      <td>21.0</td>\n",
       "    </tr>\n",
       "  </tbody>\n",
       "</table>\n",
       "</div>"
      ],
      "text/plain": [
       "      user_id  month  gb_used\n",
       "512      1109      9     12.0\n",
       "1652     1359      2     20.0\n",
       "1228     1259      7      3.0\n",
       "2106     1458     10     18.0\n",
       "1162     1247     12     26.0\n",
       "1969     1421     11     17.0\n",
       "1874     1403      7     18.0\n",
       "1142     1244     12     20.0\n",
       "1038     1217     10     21.0\n",
       "1023     1214      6     21.0"
      ]
     },
     "execution_count": 19,
     "metadata": {},
     "output_type": "execute_result"
    }
   ],
   "source": [
    "# Calculate the volume of internet traffic used by each user per month. Save the result.\n",
    "# Merge users and internet DataFrames on 'user_id'\n",
    "merged_internet = pd.merge(users, internet, on='user_id')\n",
    "\n",
    "# Extract month from 'session_date'\n",
    "merged_internet['month'] = merged_internet['session_date'].dt.month\n",
    "\n",
    "# Calculate GB used per month per user\n",
    "internet_gb_per_month_per_user = merged_internet.groupby(['user_id', 'month'])['gb_used'].sum().reset_index()\n",
    "\n",
    "# Round up GB used per month\n",
    "internet_gb_per_month_per_user['gb_used'] = np.ceil(internet_gb_per_month_per_user['gb_used'])\n",
    "\n",
    "# Checking the results\n",
    "internet_gb_per_month_per_user.sample(n=10)\n"
   ]
  },
  {
   "cell_type": "markdown",
   "metadata": {},
   "source": [
    "Put the aggregate data together into one DataFrame so that one record in it would represent what an unique user consumed in a given month."
   ]
  },
  {
   "cell_type": "code",
   "execution_count": 20,
   "metadata": {
    "trusted": true
   },
   "outputs": [
    {
     "data": {
      "text/html": [
       "<div>\n",
       "<style scoped>\n",
       "    .dataframe tbody tr th:only-of-type {\n",
       "        vertical-align: middle;\n",
       "    }\n",
       "\n",
       "    .dataframe tbody tr th {\n",
       "        vertical-align: top;\n",
       "    }\n",
       "\n",
       "    .dataframe thead th {\n",
       "        text-align: right;\n",
       "    }\n",
       "</style>\n",
       "<table border=\"1\" class=\"dataframe\">\n",
       "  <thead>\n",
       "    <tr style=\"text-align: right;\">\n",
       "      <th></th>\n",
       "      <th>user_id</th>\n",
       "      <th>month</th>\n",
       "      <th>duration</th>\n",
       "      <th>messages_count</th>\n",
       "      <th>gb_used</th>\n",
       "    </tr>\n",
       "  </thead>\n",
       "  <tbody>\n",
       "    <tr>\n",
       "      <th>1451</th>\n",
       "      <td>1323</td>\n",
       "      <td>12</td>\n",
       "      <td>27</td>\n",
       "      <td>1</td>\n",
       "      <td>2</td>\n",
       "    </tr>\n",
       "    <tr>\n",
       "      <th>1634</th>\n",
       "      <td>1360</td>\n",
       "      <td>12</td>\n",
       "      <td>775</td>\n",
       "      <td>0</td>\n",
       "      <td>24</td>\n",
       "    </tr>\n",
       "    <tr>\n",
       "      <th>417</th>\n",
       "      <td>1088</td>\n",
       "      <td>10</td>\n",
       "      <td>179</td>\n",
       "      <td>53</td>\n",
       "      <td>12</td>\n",
       "    </tr>\n",
       "    <tr>\n",
       "      <th>422</th>\n",
       "      <td>1090</td>\n",
       "      <td>7</td>\n",
       "      <td>279</td>\n",
       "      <td>24</td>\n",
       "      <td>27</td>\n",
       "    </tr>\n",
       "    <tr>\n",
       "      <th>253</th>\n",
       "      <td>1059</td>\n",
       "      <td>5</td>\n",
       "      <td>817</td>\n",
       "      <td>76</td>\n",
       "      <td>12</td>\n",
       "    </tr>\n",
       "    <tr>\n",
       "      <th>534</th>\n",
       "      <td>1114</td>\n",
       "      <td>10</td>\n",
       "      <td>687</td>\n",
       "      <td>89</td>\n",
       "      <td>16</td>\n",
       "    </tr>\n",
       "    <tr>\n",
       "      <th>962</th>\n",
       "      <td>1206</td>\n",
       "      <td>9</td>\n",
       "      <td>400</td>\n",
       "      <td>35</td>\n",
       "      <td>27</td>\n",
       "    </tr>\n",
       "    <tr>\n",
       "      <th>944</th>\n",
       "      <td>1201</td>\n",
       "      <td>12</td>\n",
       "      <td>354</td>\n",
       "      <td>10</td>\n",
       "      <td>27</td>\n",
       "    </tr>\n",
       "    <tr>\n",
       "      <th>1704</th>\n",
       "      <td>1374</td>\n",
       "      <td>5</td>\n",
       "      <td>369</td>\n",
       "      <td>67</td>\n",
       "      <td>30</td>\n",
       "    </tr>\n",
       "    <tr>\n",
       "      <th>1442</th>\n",
       "      <td>1321</td>\n",
       "      <td>9</td>\n",
       "      <td>448</td>\n",
       "      <td>0</td>\n",
       "      <td>19</td>\n",
       "    </tr>\n",
       "  </tbody>\n",
       "</table>\n",
       "</div>"
      ],
      "text/plain": [
       "      user_id  month  duration  messages_count  gb_used\n",
       "1451     1323     12        27               1        2\n",
       "1634     1360     12       775               0       24\n",
       "417      1088     10       179              53       12\n",
       "422      1090      7       279              24       27\n",
       "253      1059      5       817              76       12\n",
       "534      1114     10       687              89       16\n",
       "962      1206      9       400              35       27\n",
       "944      1201     12       354              10       27\n",
       "1704     1374      5       369              67       30\n",
       "1442     1321      9       448               0       19"
      ]
     },
     "execution_count": 20,
     "metadata": {},
     "output_type": "execute_result"
    }
   ],
   "source": [
    "# Merge the data for calls, minutes, messages, internet based on user_id and month\n",
    "\n",
    "# Group and aggregate data\n",
    "calls_grouped = merged_calls.groupby(['user_id', 'month']).agg({'duration': 'sum'}).reset_index()\n",
    "messages_grouped = merged_messages.groupby(['user_id', 'month']).agg({'id': 'count'}).rename(columns={'id': 'messages_count'}).reset_index()\n",
    "internet_grouped = merged_internet.groupby(['user_id', 'month']).agg({'gb_used': 'sum'}).reset_index()\n",
    "internet_grouped['gb_used'] = np.ceil(internet_grouped['gb_used']).astype(int) # Round up and convert to int\n",
    "\n",
    "# Merge dataframes\n",
    "merged_df = pd.merge(calls_grouped, messages_grouped, on=['user_id', 'month'], how='outer')\n",
    "merged_df = pd.merge(merged_df, internet_grouped, on=['user_id', 'month'], how='outer')\n",
    "\n",
    "# Fill missing values with 0 \n",
    "merged_df['duration'].fillna(0, inplace=True)\n",
    "merged_df['messages_count'].fillna(0, inplace=True)\n",
    "merged_df['gb_used'].fillna(0, inplace=True)\n",
    "\n",
    "# Convert to integers \n",
    "merged_df['duration'] = merged_df['duration'].astype(int)\n",
    "merged_df['messages_count'] = merged_df['messages_count'].astype(int)\n",
    "merged_df['gb_used'] = merged_df['gb_used'].astype(int)\n",
    "\n",
    "# Print the merged DataFrame\n",
    "merged_df.sample(n=10)"
   ]
  },
  {
   "cell_type": "code",
   "execution_count": 21,
   "metadata": {
    "trusted": true
   },
   "outputs": [
    {
     "data": {
      "text/html": [
       "<div>\n",
       "<style scoped>\n",
       "    .dataframe tbody tr th:only-of-type {\n",
       "        vertical-align: middle;\n",
       "    }\n",
       "\n",
       "    .dataframe tbody tr th {\n",
       "        vertical-align: top;\n",
       "    }\n",
       "\n",
       "    .dataframe thead th {\n",
       "        text-align: right;\n",
       "    }\n",
       "</style>\n",
       "<table border=\"1\" class=\"dataframe\">\n",
       "  <thead>\n",
       "    <tr style=\"text-align: right;\">\n",
       "      <th></th>\n",
       "      <th>user_id</th>\n",
       "      <th>month</th>\n",
       "      <th>duration</th>\n",
       "      <th>messages_count</th>\n",
       "      <th>gb_used</th>\n",
       "      <th>plan</th>\n",
       "      <th>city</th>\n",
       "      <th>messages_included</th>\n",
       "      <th>mb_per_month_included</th>\n",
       "      <th>minutes_included</th>\n",
       "      <th>usd_monthly_pay</th>\n",
       "      <th>usd_per_gb</th>\n",
       "      <th>usd_per_message</th>\n",
       "      <th>usd_per_minute</th>\n",
       "      <th>plan_name</th>\n",
       "    </tr>\n",
       "  </thead>\n",
       "  <tbody>\n",
       "    <tr>\n",
       "      <th>0</th>\n",
       "      <td>1000</td>\n",
       "      <td>12</td>\n",
       "      <td>116</td>\n",
       "      <td>11</td>\n",
       "      <td>2</td>\n",
       "      <td>ultimate</td>\n",
       "      <td>Atlanta-Sandy Springs-Roswell, GA MSA</td>\n",
       "      <td>1000</td>\n",
       "      <td>30720</td>\n",
       "      <td>3000</td>\n",
       "      <td>70</td>\n",
       "      <td>7</td>\n",
       "      <td>0.01</td>\n",
       "      <td>0.01</td>\n",
       "      <td>ultimate</td>\n",
       "    </tr>\n",
       "    <tr>\n",
       "      <th>1</th>\n",
       "      <td>1001</td>\n",
       "      <td>8</td>\n",
       "      <td>171</td>\n",
       "      <td>30</td>\n",
       "      <td>7</td>\n",
       "      <td>surf</td>\n",
       "      <td>Seattle-Tacoma-Bellevue, WA MSA</td>\n",
       "      <td>50</td>\n",
       "      <td>15360</td>\n",
       "      <td>500</td>\n",
       "      <td>20</td>\n",
       "      <td>10</td>\n",
       "      <td>0.03</td>\n",
       "      <td>0.03</td>\n",
       "      <td>surf</td>\n",
       "    </tr>\n",
       "    <tr>\n",
       "      <th>2</th>\n",
       "      <td>1001</td>\n",
       "      <td>9</td>\n",
       "      <td>297</td>\n",
       "      <td>44</td>\n",
       "      <td>14</td>\n",
       "      <td>surf</td>\n",
       "      <td>Seattle-Tacoma-Bellevue, WA MSA</td>\n",
       "      <td>50</td>\n",
       "      <td>15360</td>\n",
       "      <td>500</td>\n",
       "      <td>20</td>\n",
       "      <td>10</td>\n",
       "      <td>0.03</td>\n",
       "      <td>0.03</td>\n",
       "      <td>surf</td>\n",
       "    </tr>\n",
       "    <tr>\n",
       "      <th>3</th>\n",
       "      <td>1001</td>\n",
       "      <td>10</td>\n",
       "      <td>374</td>\n",
       "      <td>53</td>\n",
       "      <td>22</td>\n",
       "      <td>surf</td>\n",
       "      <td>Seattle-Tacoma-Bellevue, WA MSA</td>\n",
       "      <td>50</td>\n",
       "      <td>15360</td>\n",
       "      <td>500</td>\n",
       "      <td>20</td>\n",
       "      <td>10</td>\n",
       "      <td>0.03</td>\n",
       "      <td>0.03</td>\n",
       "      <td>surf</td>\n",
       "    </tr>\n",
       "    <tr>\n",
       "      <th>4</th>\n",
       "      <td>1001</td>\n",
       "      <td>11</td>\n",
       "      <td>404</td>\n",
       "      <td>36</td>\n",
       "      <td>19</td>\n",
       "      <td>surf</td>\n",
       "      <td>Seattle-Tacoma-Bellevue, WA MSA</td>\n",
       "      <td>50</td>\n",
       "      <td>15360</td>\n",
       "      <td>500</td>\n",
       "      <td>20</td>\n",
       "      <td>10</td>\n",
       "      <td>0.03</td>\n",
       "      <td>0.03</td>\n",
       "      <td>surf</td>\n",
       "    </tr>\n",
       "  </tbody>\n",
       "</table>\n",
       "</div>"
      ],
      "text/plain": [
       "   user_id  month  duration  messages_count  gb_used      plan  \\\n",
       "0     1000     12       116              11        2  ultimate   \n",
       "1     1001      8       171              30        7      surf   \n",
       "2     1001      9       297              44       14      surf   \n",
       "3     1001     10       374              53       22      surf   \n",
       "4     1001     11       404              36       19      surf   \n",
       "\n",
       "                                    city  messages_included  \\\n",
       "0  Atlanta-Sandy Springs-Roswell, GA MSA               1000   \n",
       "1        Seattle-Tacoma-Bellevue, WA MSA                 50   \n",
       "2        Seattle-Tacoma-Bellevue, WA MSA                 50   \n",
       "3        Seattle-Tacoma-Bellevue, WA MSA                 50   \n",
       "4        Seattle-Tacoma-Bellevue, WA MSA                 50   \n",
       "\n",
       "   mb_per_month_included  minutes_included  usd_monthly_pay  usd_per_gb  \\\n",
       "0                  30720              3000               70           7   \n",
       "1                  15360               500               20          10   \n",
       "2                  15360               500               20          10   \n",
       "3                  15360               500               20          10   \n",
       "4                  15360               500               20          10   \n",
       "\n",
       "   usd_per_message  usd_per_minute plan_name  \n",
       "0             0.01            0.01  ultimate  \n",
       "1             0.03            0.03      surf  \n",
       "2             0.03            0.03      surf  \n",
       "3             0.03            0.03      surf  \n",
       "4             0.03            0.03      surf  "
      ]
     },
     "execution_count": 21,
     "metadata": {},
     "output_type": "execute_result"
    }
   ],
   "source": [
    "# Add the plan information\n",
    "# Merge with users user_id, city and plan information\n",
    "merged_df = pd.merge(merged_df, users[['user_id', 'plan', 'city']], on='user_id', how='left')\n",
    "merged_df = pd.merge(merged_df, plans, left_on='plan', right_on='plan_name', how='left')\n",
    "merged_df.head()"
   ]
  },
  {
   "cell_type": "code",
   "execution_count": 22,
   "metadata": {
    "scrolled": true,
    "trusted": true
   },
   "outputs": [
    {
     "data": {
      "text/html": [
       "<div>\n",
       "<style scoped>\n",
       "    .dataframe tbody tr th:only-of-type {\n",
       "        vertical-align: middle;\n",
       "    }\n",
       "\n",
       "    .dataframe tbody tr th {\n",
       "        vertical-align: top;\n",
       "    }\n",
       "\n",
       "    .dataframe thead th {\n",
       "        text-align: right;\n",
       "    }\n",
       "</style>\n",
       "<table border=\"1\" class=\"dataframe\">\n",
       "  <thead>\n",
       "    <tr style=\"text-align: right;\">\n",
       "      <th></th>\n",
       "      <th>user_id</th>\n",
       "      <th>month</th>\n",
       "      <th>duration</th>\n",
       "      <th>messages_count</th>\n",
       "      <th>gb_used</th>\n",
       "      <th>plan</th>\n",
       "      <th>city</th>\n",
       "      <th>messages_included</th>\n",
       "      <th>mb_per_month_included</th>\n",
       "      <th>minutes_included</th>\n",
       "      <th>...</th>\n",
       "      <th>usd_per_message</th>\n",
       "      <th>usd_per_minute</th>\n",
       "      <th>plan_name</th>\n",
       "      <th>overage_minutes</th>\n",
       "      <th>overage_messages</th>\n",
       "      <th>overage_gb</th>\n",
       "      <th>overage_minutes_charge</th>\n",
       "      <th>overage_messages_charge</th>\n",
       "      <th>overage_gb_charge</th>\n",
       "      <th>total_revenue</th>\n",
       "    </tr>\n",
       "  </thead>\n",
       "  <tbody>\n",
       "    <tr>\n",
       "      <th>0</th>\n",
       "      <td>1000</td>\n",
       "      <td>12</td>\n",
       "      <td>116</td>\n",
       "      <td>11</td>\n",
       "      <td>2</td>\n",
       "      <td>ultimate</td>\n",
       "      <td>Atlanta-Sandy Springs-Roswell, GA MSA</td>\n",
       "      <td>1000</td>\n",
       "      <td>30720</td>\n",
       "      <td>3000</td>\n",
       "      <td>...</td>\n",
       "      <td>0.01</td>\n",
       "      <td>0.01</td>\n",
       "      <td>ultimate</td>\n",
       "      <td>0</td>\n",
       "      <td>0</td>\n",
       "      <td>0.0</td>\n",
       "      <td>0.0</td>\n",
       "      <td>0.00</td>\n",
       "      <td>0.0</td>\n",
       "      <td>70.00</td>\n",
       "    </tr>\n",
       "    <tr>\n",
       "      <th>1</th>\n",
       "      <td>1001</td>\n",
       "      <td>8</td>\n",
       "      <td>171</td>\n",
       "      <td>30</td>\n",
       "      <td>7</td>\n",
       "      <td>surf</td>\n",
       "      <td>Seattle-Tacoma-Bellevue, WA MSA</td>\n",
       "      <td>50</td>\n",
       "      <td>15360</td>\n",
       "      <td>500</td>\n",
       "      <td>...</td>\n",
       "      <td>0.03</td>\n",
       "      <td>0.03</td>\n",
       "      <td>surf</td>\n",
       "      <td>0</td>\n",
       "      <td>0</td>\n",
       "      <td>0.0</td>\n",
       "      <td>0.0</td>\n",
       "      <td>0.00</td>\n",
       "      <td>0.0</td>\n",
       "      <td>20.00</td>\n",
       "    </tr>\n",
       "    <tr>\n",
       "      <th>2</th>\n",
       "      <td>1001</td>\n",
       "      <td>9</td>\n",
       "      <td>297</td>\n",
       "      <td>44</td>\n",
       "      <td>14</td>\n",
       "      <td>surf</td>\n",
       "      <td>Seattle-Tacoma-Bellevue, WA MSA</td>\n",
       "      <td>50</td>\n",
       "      <td>15360</td>\n",
       "      <td>500</td>\n",
       "      <td>...</td>\n",
       "      <td>0.03</td>\n",
       "      <td>0.03</td>\n",
       "      <td>surf</td>\n",
       "      <td>0</td>\n",
       "      <td>0</td>\n",
       "      <td>0.0</td>\n",
       "      <td>0.0</td>\n",
       "      <td>0.00</td>\n",
       "      <td>0.0</td>\n",
       "      <td>20.00</td>\n",
       "    </tr>\n",
       "    <tr>\n",
       "      <th>3</th>\n",
       "      <td>1001</td>\n",
       "      <td>10</td>\n",
       "      <td>374</td>\n",
       "      <td>53</td>\n",
       "      <td>22</td>\n",
       "      <td>surf</td>\n",
       "      <td>Seattle-Tacoma-Bellevue, WA MSA</td>\n",
       "      <td>50</td>\n",
       "      <td>15360</td>\n",
       "      <td>500</td>\n",
       "      <td>...</td>\n",
       "      <td>0.03</td>\n",
       "      <td>0.03</td>\n",
       "      <td>surf</td>\n",
       "      <td>0</td>\n",
       "      <td>3</td>\n",
       "      <td>7.0</td>\n",
       "      <td>0.0</td>\n",
       "      <td>0.09</td>\n",
       "      <td>70.0</td>\n",
       "      <td>90.09</td>\n",
       "    </tr>\n",
       "    <tr>\n",
       "      <th>4</th>\n",
       "      <td>1001</td>\n",
       "      <td>11</td>\n",
       "      <td>404</td>\n",
       "      <td>36</td>\n",
       "      <td>19</td>\n",
       "      <td>surf</td>\n",
       "      <td>Seattle-Tacoma-Bellevue, WA MSA</td>\n",
       "      <td>50</td>\n",
       "      <td>15360</td>\n",
       "      <td>500</td>\n",
       "      <td>...</td>\n",
       "      <td>0.03</td>\n",
       "      <td>0.03</td>\n",
       "      <td>surf</td>\n",
       "      <td>0</td>\n",
       "      <td>0</td>\n",
       "      <td>4.0</td>\n",
       "      <td>0.0</td>\n",
       "      <td>0.00</td>\n",
       "      <td>40.0</td>\n",
       "      <td>60.00</td>\n",
       "    </tr>\n",
       "    <tr>\n",
       "      <th>...</th>\n",
       "      <td>...</td>\n",
       "      <td>...</td>\n",
       "      <td>...</td>\n",
       "      <td>...</td>\n",
       "      <td>...</td>\n",
       "      <td>...</td>\n",
       "      <td>...</td>\n",
       "      <td>...</td>\n",
       "      <td>...</td>\n",
       "      <td>...</td>\n",
       "      <td>...</td>\n",
       "      <td>...</td>\n",
       "      <td>...</td>\n",
       "      <td>...</td>\n",
       "      <td>...</td>\n",
       "      <td>...</td>\n",
       "      <td>...</td>\n",
       "      <td>...</td>\n",
       "      <td>...</td>\n",
       "      <td>...</td>\n",
       "      <td>...</td>\n",
       "    </tr>\n",
       "    <tr>\n",
       "      <th>2288</th>\n",
       "      <td>1349</td>\n",
       "      <td>12</td>\n",
       "      <td>0</td>\n",
       "      <td>61</td>\n",
       "      <td>13</td>\n",
       "      <td>surf</td>\n",
       "      <td>Boston-Cambridge-Newton, MA-NH MSA</td>\n",
       "      <td>50</td>\n",
       "      <td>15360</td>\n",
       "      <td>500</td>\n",
       "      <td>...</td>\n",
       "      <td>0.03</td>\n",
       "      <td>0.03</td>\n",
       "      <td>surf</td>\n",
       "      <td>0</td>\n",
       "      <td>11</td>\n",
       "      <td>0.0</td>\n",
       "      <td>0.0</td>\n",
       "      <td>0.33</td>\n",
       "      <td>0.0</td>\n",
       "      <td>20.33</td>\n",
       "    </tr>\n",
       "    <tr>\n",
       "      <th>2289</th>\n",
       "      <td>1361</td>\n",
       "      <td>5</td>\n",
       "      <td>0</td>\n",
       "      <td>2</td>\n",
       "      <td>2</td>\n",
       "      <td>surf</td>\n",
       "      <td>Birmingham-Hoover, AL MSA</td>\n",
       "      <td>50</td>\n",
       "      <td>15360</td>\n",
       "      <td>500</td>\n",
       "      <td>...</td>\n",
       "      <td>0.03</td>\n",
       "      <td>0.03</td>\n",
       "      <td>surf</td>\n",
       "      <td>0</td>\n",
       "      <td>0</td>\n",
       "      <td>0.0</td>\n",
       "      <td>0.0</td>\n",
       "      <td>0.00</td>\n",
       "      <td>0.0</td>\n",
       "      <td>20.00</td>\n",
       "    </tr>\n",
       "    <tr>\n",
       "      <th>2290</th>\n",
       "      <td>1482</td>\n",
       "      <td>10</td>\n",
       "      <td>0</td>\n",
       "      <td>2</td>\n",
       "      <td>0</td>\n",
       "      <td>ultimate</td>\n",
       "      <td>New York-Newark-Jersey City, NY-NJ-PA MSA</td>\n",
       "      <td>1000</td>\n",
       "      <td>30720</td>\n",
       "      <td>3000</td>\n",
       "      <td>...</td>\n",
       "      <td>0.01</td>\n",
       "      <td>0.01</td>\n",
       "      <td>ultimate</td>\n",
       "      <td>0</td>\n",
       "      <td>0</td>\n",
       "      <td>0.0</td>\n",
       "      <td>0.0</td>\n",
       "      <td>0.00</td>\n",
       "      <td>0.0</td>\n",
       "      <td>70.00</td>\n",
       "    </tr>\n",
       "    <tr>\n",
       "      <th>2291</th>\n",
       "      <td>1108</td>\n",
       "      <td>12</td>\n",
       "      <td>0</td>\n",
       "      <td>0</td>\n",
       "      <td>1</td>\n",
       "      <td>ultimate</td>\n",
       "      <td>Salt Lake City, UT MSA</td>\n",
       "      <td>1000</td>\n",
       "      <td>30720</td>\n",
       "      <td>3000</td>\n",
       "      <td>...</td>\n",
       "      <td>0.01</td>\n",
       "      <td>0.01</td>\n",
       "      <td>ultimate</td>\n",
       "      <td>0</td>\n",
       "      <td>0</td>\n",
       "      <td>0.0</td>\n",
       "      <td>0.0</td>\n",
       "      <td>0.00</td>\n",
       "      <td>0.0</td>\n",
       "      <td>70.00</td>\n",
       "    </tr>\n",
       "    <tr>\n",
       "      <th>2292</th>\n",
       "      <td>1311</td>\n",
       "      <td>6</td>\n",
       "      <td>0</td>\n",
       "      <td>0</td>\n",
       "      <td>2</td>\n",
       "      <td>ultimate</td>\n",
       "      <td>Memphis, TN-MS-AR MSA</td>\n",
       "      <td>1000</td>\n",
       "      <td>30720</td>\n",
       "      <td>3000</td>\n",
       "      <td>...</td>\n",
       "      <td>0.01</td>\n",
       "      <td>0.01</td>\n",
       "      <td>ultimate</td>\n",
       "      <td>0</td>\n",
       "      <td>0</td>\n",
       "      <td>0.0</td>\n",
       "      <td>0.0</td>\n",
       "      <td>0.00</td>\n",
       "      <td>0.0</td>\n",
       "      <td>70.00</td>\n",
       "    </tr>\n",
       "  </tbody>\n",
       "</table>\n",
       "<p>2293 rows × 22 columns</p>\n",
       "</div>"
      ],
      "text/plain": [
       "      user_id  month  duration  messages_count  gb_used      plan  \\\n",
       "0        1000     12       116              11        2  ultimate   \n",
       "1        1001      8       171              30        7      surf   \n",
       "2        1001      9       297              44       14      surf   \n",
       "3        1001     10       374              53       22      surf   \n",
       "4        1001     11       404              36       19      surf   \n",
       "...       ...    ...       ...             ...      ...       ...   \n",
       "2288     1349     12         0              61       13      surf   \n",
       "2289     1361      5         0               2        2      surf   \n",
       "2290     1482     10         0               2        0  ultimate   \n",
       "2291     1108     12         0               0        1  ultimate   \n",
       "2292     1311      6         0               0        2  ultimate   \n",
       "\n",
       "                                           city  messages_included  \\\n",
       "0         Atlanta-Sandy Springs-Roswell, GA MSA               1000   \n",
       "1               Seattle-Tacoma-Bellevue, WA MSA                 50   \n",
       "2               Seattle-Tacoma-Bellevue, WA MSA                 50   \n",
       "3               Seattle-Tacoma-Bellevue, WA MSA                 50   \n",
       "4               Seattle-Tacoma-Bellevue, WA MSA                 50   \n",
       "...                                         ...                ...   \n",
       "2288         Boston-Cambridge-Newton, MA-NH MSA                 50   \n",
       "2289                  Birmingham-Hoover, AL MSA                 50   \n",
       "2290  New York-Newark-Jersey City, NY-NJ-PA MSA               1000   \n",
       "2291                     Salt Lake City, UT MSA               1000   \n",
       "2292                      Memphis, TN-MS-AR MSA               1000   \n",
       "\n",
       "      mb_per_month_included  minutes_included  ...  usd_per_message  \\\n",
       "0                     30720              3000  ...             0.01   \n",
       "1                     15360               500  ...             0.03   \n",
       "2                     15360               500  ...             0.03   \n",
       "3                     15360               500  ...             0.03   \n",
       "4                     15360               500  ...             0.03   \n",
       "...                     ...               ...  ...              ...   \n",
       "2288                  15360               500  ...             0.03   \n",
       "2289                  15360               500  ...             0.03   \n",
       "2290                  30720              3000  ...             0.01   \n",
       "2291                  30720              3000  ...             0.01   \n",
       "2292                  30720              3000  ...             0.01   \n",
       "\n",
       "      usd_per_minute  plan_name  overage_minutes overage_messages  overage_gb  \\\n",
       "0               0.01   ultimate                0                0         0.0   \n",
       "1               0.03       surf                0                0         0.0   \n",
       "2               0.03       surf                0                0         0.0   \n",
       "3               0.03       surf                0                3         7.0   \n",
       "4               0.03       surf                0                0         4.0   \n",
       "...              ...        ...              ...              ...         ...   \n",
       "2288            0.03       surf                0               11         0.0   \n",
       "2289            0.03       surf                0                0         0.0   \n",
       "2290            0.01   ultimate                0                0         0.0   \n",
       "2291            0.01   ultimate                0                0         0.0   \n",
       "2292            0.01   ultimate                0                0         0.0   \n",
       "\n",
       "      overage_minutes_charge  overage_messages_charge  overage_gb_charge  \\\n",
       "0                        0.0                     0.00                0.0   \n",
       "1                        0.0                     0.00                0.0   \n",
       "2                        0.0                     0.00                0.0   \n",
       "3                        0.0                     0.09               70.0   \n",
       "4                        0.0                     0.00               40.0   \n",
       "...                      ...                      ...                ...   \n",
       "2288                     0.0                     0.33                0.0   \n",
       "2289                     0.0                     0.00                0.0   \n",
       "2290                     0.0                     0.00                0.0   \n",
       "2291                     0.0                     0.00                0.0   \n",
       "2292                     0.0                     0.00                0.0   \n",
       "\n",
       "      total_revenue  \n",
       "0             70.00  \n",
       "1             20.00  \n",
       "2             20.00  \n",
       "3             90.09  \n",
       "4             60.00  \n",
       "...             ...  \n",
       "2288          20.33  \n",
       "2289          20.00  \n",
       "2290          70.00  \n",
       "2291          70.00  \n",
       "2292          70.00  \n",
       "\n",
       "[2293 rows x 22 columns]"
      ]
     },
     "execution_count": 22,
     "metadata": {},
     "output_type": "execute_result"
    }
   ],
   "source": [
    "# Calculate the monthly revenue for each user\n",
    "# Calculate overage minutes, messages, and data\n",
    "merged_df['overage_minutes'] = merged_df['duration'] - merged_df['minutes_included']\n",
    "merged_df['overage_minutes'] = merged_df['overage_minutes'].clip(lower=0)  # Ensure non-negative values\n",
    "merged_df['overage_messages'] = merged_df['messages_count'] - merged_df['messages_included']\n",
    "merged_df['overage_messages'] = merged_df['overage_messages'].clip(lower=0)\n",
    "merged_df['overage_gb'] = np.ceil(merged_df['gb_used']) - (merged_df['mb_per_month_included'] / 1024) # Convert to GB\n",
    "merged_df['overage_gb'] = merged_df['overage_gb'].clip(lower=0)\n",
    "\n",
    "# Round up overage GB to the nearest whole number\n",
    "merged_df['overage_gb'] = np.ceil(merged_df['overage_gb']) \n",
    "\n",
    "# Calculate overage charges\n",
    "merged_df['overage_minutes_charge'] = merged_df['overage_minutes'] * merged_df['usd_per_minute']\n",
    "merged_df['overage_messages_charge'] = merged_df['overage_messages'] * merged_df['usd_per_message']\n",
    "merged_df['overage_gb_charge'] = merged_df['overage_gb'] * merged_df['usd_per_gb']\n",
    "\n",
    "# Calculate total revenue\n",
    "merged_df['total_revenue'] = merged_df['usd_monthly_pay'] + \\\n",
    "                            merged_df['overage_minutes_charge'] + \\\n",
    "                            merged_df['overage_messages_charge'] + \\\n",
    "                            merged_df['overage_gb_charge']\n",
    "\n",
    "# Print the final DataFrame\n",
    "merged_df"
   ]
  },
  {
   "cell_type": "markdown",
   "metadata": {},
   "source": [
    "## Study user behaviour"
   ]
  },
  {
   "cell_type": "markdown",
   "metadata": {},
   "source": [
    "[Calculate some useful descriptive statistics for the aggregated and merged data, which typically reveal an overall picture captured by the data. Draw useful plots to help the understanding. Given that the main task is to compare the plans and decide on which one is more profitable, the statistics and the plots should be calculated on a per-plan basis.]\n",
    "\n",
    "[There are relevant hints in the comments for Calls but they are not provided for Messages and Internet though the principle of statistical study is the same for them as for Calls.]"
   ]
  },
  {
   "cell_type": "markdown",
   "metadata": {},
   "source": [
    "### Calls"
   ]
  },
  {
   "cell_type": "code",
   "execution_count": 23,
   "metadata": {
    "trusted": true
   },
   "outputs": [
    {
     "data": {
      "image/png": "[encoded data removed]",
      "text/plain": [
       "<Figure size 1000x600 with 1 Axes>"
      ]
     },
     "metadata": {},
     "output_type": "display_data"
    }
   ],
   "source": [
    "# Compare average duration of calls per each plan per each distinct month. Plot a bar plat to visualize it.\n",
    "# Calculate average call duration per plan per month\n",
    "avg_call_duration = merged_df.groupby(['plan', 'month'])['duration'].mean().reset_index()\n",
    "\n",
    "# Create a pivot table for better visualization\n",
    "avg_call_duration_pivot = avg_call_duration.pivot(index='month', columns='plan', values='duration')\n",
    "\n",
    "# Create a bar plot\n",
    "avg_call_duration_pivot.plot(kind='bar', figsize=(10, 6))\n",
    "\n",
    "# Set plot labels\n",
    "plt.xlabel('Month')\n",
    "plt.ylabel('Average Call Duration (minutes)')\n",
    "plt.title('Average Call Duration per Plan per Month')\n",
    "plt.legend(title='Plan')\n",
    "\n",
    "# Show the plot\n",
    "plt.show()\n"
   ]
  },
  {
   "cell_type": "markdown",
   "metadata": {},
   "source": [
    "Other than the month of February, the average call duration between both plans is almost similar"
   ]
  },
  {
   "cell_type": "code",
   "execution_count": 24,
   "metadata": {
    "trusted": true
   },
   "outputs": [
    {
     "data": {
      "image/png": "[encoded data removed]",
      "text/plain": [
       "<Figure size 1200x500 with 2 Axes>"
      ]
     },
     "metadata": {},
     "output_type": "display_data"
    }
   ],
   "source": [
    "# Compare the number of minutes users of each plan require each month. Plot a histogram.\n",
    "# Calculate total minutes used per user per month\n",
    "total_minutes_used = merged_df.groupby(['user_id', 'month', 'plan'])['duration'].sum().reset_index()\n",
    "\n",
    "# Create separate DataFrames for each plan\n",
    "surf_minutes = total_minutes_used[total_minutes_used['plan'] == 'surf']['duration']\n",
    "ultimate_minutes = total_minutes_used[total_minutes_used['plan'] == 'ultimate']['duration']\n",
    "\n",
    "# Create subplots\n",
    "fig, axes = plt.subplots(nrows=1, ncols=2, figsize=(12, 5))\n",
    "\n",
    "# Plot histograms\n",
    "axes[0].hist(surf_minutes, bins=20, color='blue', alpha=0.7)\n",
    "axes[0].set_xlabel('Total Minutes Used')\n",
    "axes[0].set_ylabel('Frequency')\n",
    "axes[0].set_title('Total Minutes Used Distribution (Surf)')\n",
    "\n",
    "axes[1].hist(ultimate_minutes, bins=20, color='orange', alpha=0.7)\n",
    "axes[1].set_xlabel('Total Minutes Used')\n",
    "axes[1].set_ylabel('Frequency')\n",
    "axes[1].set_title('Total Minutes Used Distribution (Ultimate)')\n",
    "\n",
    "# Adjust layout and show plot\n",
    "plt.tight_layout()\n",
    "plt.show()"
   ]
  },
  {
   "cell_type": "markdown",
   "metadata": {},
   "source": [
    "Overall, most users on both the 'Surf' and 'Ultimate' plans remain within the minutes included in their respective plans. The mean usage for the Surf plan is 404.76 minutes, and for the Ultimate plan, it is 406.19 minutes.\n",
    "\n",
    "Surf Plan: The histogram for the Surf plan shows a right-skewed distribution. This indicates that a majority of Surf users use a relatively small number of minutes, while a smaller portion uses significantly more. The distribution has a long tail towards the right, suggesting the presence of some users who use a very high number of minutes.\n",
    "\n",
    "Ultimate Plan: The histogram for the Ultimate plan also exhibits a right-skewed distribution, but it is even more skewed than the Surf plan. This implies that a larger proportion of Ultimate users use a smaller number of minutes compared to Surf users. However, there is still a noticeable tail towards the right, indicating the presence of users who use a large number of minutes."
   ]
  },
  {
   "cell_type": "code",
   "execution_count": 25,
   "metadata": {
    "trusted": true
   },
   "outputs": [
    {
     "data": {
      "text/html": [
       "<div>\n",
       "<style scoped>\n",
       "    .dataframe tbody tr th:only-of-type {\n",
       "        vertical-align: middle;\n",
       "    }\n",
       "\n",
       "    .dataframe tbody tr th {\n",
       "        vertical-align: top;\n",
       "    }\n",
       "\n",
       "    .dataframe thead th {\n",
       "        text-align: right;\n",
       "    }\n",
       "</style>\n",
       "<table border=\"1\" class=\"dataframe\">\n",
       "  <thead>\n",
       "    <tr style=\"text-align: right;\">\n",
       "      <th></th>\n",
       "      <th>plan</th>\n",
       "      <th>mean</th>\n",
       "      <th>var</th>\n",
       "    </tr>\n",
       "  </thead>\n",
       "  <tbody>\n",
       "    <tr>\n",
       "      <th>0</th>\n",
       "      <td>surf</td>\n",
       "      <td>404.271456</td>\n",
       "      <td>49129.434535</td>\n",
       "    </tr>\n",
       "    <tr>\n",
       "      <th>1</th>\n",
       "      <td>ultimate</td>\n",
       "      <td>405.723611</td>\n",
       "      <td>51641.602223</td>\n",
       "    </tr>\n",
       "  </tbody>\n",
       "</table>\n",
       "</div>"
      ],
      "text/plain": [
       "       plan        mean           var\n",
       "0      surf  404.271456  49129.434535\n",
       "1  ultimate  405.723611  51641.602223"
      ]
     },
     "execution_count": 25,
     "metadata": {},
     "output_type": "execute_result"
    }
   ],
   "source": [
    "# Calculate the mean and the variance of the monthly call duration\n",
    "# Calculate mean and variance of monthly call duration for each plan\n",
    "plan_stats = total_minutes_used.groupby('plan')['duration'].agg(['mean', 'var']).reset_index()\n",
    "\n",
    "plan_stats"
   ]
  },
  {
   "cell_type": "code",
   "execution_count": 26,
   "metadata": {
    "trusted": true
   },
   "outputs": [
    {
     "data": {
      "image/png": "[encoded data removed]",
      "text/plain": [
       "<Figure size 800x600 with 1 Axes>"
      ]
     },
     "metadata": {},
     "output_type": "display_data"
    }
   ],
   "source": [
    "# Plot a boxplot to visualize the distribution of the monthly call duration\n",
    "# Create a boxplot to visualize the distribution of monthly call duration\n",
    "plt.figure(figsize=(8, 6))\n",
    "sns.boxplot(x='plan', y='duration', data=total_minutes_used)\n",
    "plt.xlabel('Plan')\n",
    "plt.ylabel('Total Monthly Call Duration (minutes)')\n",
    "plt.title('Distribution of Monthly Call Duration by Plan')\n",
    "plt.show()"
   ]
  },
  {
   "cell_type": "markdown",
   "metadata": {},
   "source": [
    "The distribution of monthly call duration is also nearly identical, with a mean of approximately 400 minutes for both plans"
   ]
  },
  {
   "cell_type": "markdown",
   "metadata": {},
   "source": [
    "### Messages"
   ]
  },
  {
   "cell_type": "code",
   "execution_count": 27,
   "metadata": {
    "trusted": true
   },
   "outputs": [
    {
     "data": {
      "image/png": "[encoded data removed]",
      "text/plain": [
       "<Figure size 1200x500 with 2 Axes>"
      ]
     },
     "metadata": {},
     "output_type": "display_data"
    }
   ],
   "source": [
    "# Compare the number of messages users of each plan tend to send each month\n",
    "# Calculate total messages sent per user per month\n",
    "total_messages_sent = merged_df.groupby(['user_id', 'month', 'plan'])['messages_count'].sum().reset_index()\n",
    "\n",
    "# Create separate DataFrames for each plan\n",
    "surf_messages = total_messages_sent[total_messages_sent['plan'] == 'surf']['messages_count']\n",
    "ultimate_messages = total_messages_sent[total_messages_sent['plan'] == 'ultimate']['messages_count']\n",
    "\n",
    "# Create subplots\n",
    "fig, axes = plt.subplots(nrows=1, ncols=2, figsize=(12, 5))\n",
    "\n",
    "# Plot histograms\n",
    "axes[0].hist(surf_messages, bins=20, color='blue', alpha=0.7)\n",
    "axes[0].set_xlabel('Total Messages Sent')\n",
    "axes[0].set_ylabel('Frequency')\n",
    "axes[0].set_title('Total Messages Sent Distribution (Surf)')\n",
    "\n",
    "axes[1].hist(ultimate_messages, bins=20, color='orange', alpha=0.7)\n",
    "axes[1].set_xlabel('Total Messages Sent')\n",
    "axes[1].set_ylabel('Frequency')\n",
    "axes[1].set_title('Total Messages Sent Distribution (Ultimate)')\n",
    "\n",
    "# Adjust layout and show plot\n",
    "plt.tight_layout()\n",
    "plt.show()\n"
   ]
  },
  {
   "cell_type": "code",
   "execution_count": 28,
   "metadata": {
    "trusted": true
   },
   "outputs": [
    {
     "data": {
      "text/html": [
       "<div>\n",
       "<style scoped>\n",
       "    .dataframe tbody tr th:only-of-type {\n",
       "        vertical-align: middle;\n",
       "    }\n",
       "\n",
       "    .dataframe tbody tr th {\n",
       "        vertical-align: top;\n",
       "    }\n",
       "\n",
       "    .dataframe thead th {\n",
       "        text-align: right;\n",
       "    }\n",
       "</style>\n",
       "<table border=\"1\" class=\"dataframe\">\n",
       "  <thead>\n",
       "    <tr style=\"text-align: right;\">\n",
       "      <th></th>\n",
       "      <th>plan</th>\n",
       "      <th>mean</th>\n",
       "      <th>var</th>\n",
       "    </tr>\n",
       "  </thead>\n",
       "  <tbody>\n",
       "    <tr>\n",
       "      <th>0</th>\n",
       "      <td>surf</td>\n",
       "      <td>31.159568</td>\n",
       "      <td>1126.724522</td>\n",
       "    </tr>\n",
       "    <tr>\n",
       "      <th>1</th>\n",
       "      <td>ultimate</td>\n",
       "      <td>37.551389</td>\n",
       "      <td>1208.756744</td>\n",
       "    </tr>\n",
       "  </tbody>\n",
       "</table>\n",
       "</div>"
      ],
      "text/plain": [
       "       plan       mean          var\n",
       "0      surf  31.159568  1126.724522\n",
       "1  ultimate  37.551389  1208.756744"
      ]
     },
     "execution_count": 28,
     "metadata": {},
     "output_type": "execute_result"
    }
   ],
   "source": [
    "messages_stats = total_messages_sent.groupby('plan')['messages_count'].agg(['mean', 'var']).reset_index()\n",
    "messages_stats"
   ]
  },
  {
   "cell_type": "markdown",
   "metadata": {},
   "source": [
    "Observations:\n",
    "\n",
    "Surf Plan: The histogram for the Surf plan shows a right-skewed distribution. This indicates that a majority of Surf users send a relatively small number of messages, while a smaller portion sends significantly more. The distribution has a long tail towards the right, suggesting the presence of some users who send a very high number of messages.\n",
    "\n",
    "Ultimate Plan: The histogram for the Ultimate plan also exhibits a right-skewed distribution, but it is even more skewed than the Surf plan. This implies that a larger proportion of Ultimate users send a smaller number of messages compared to Surf users. However, there is still a noticeable tail towards the right, indicating the presence of users who send a large number of messages."
   ]
  },
  {
   "cell_type": "markdown",
   "metadata": {},
   "source": [
    "### Internet"
   ]
  },
  {
   "cell_type": "code",
   "execution_count": 29,
   "metadata": {
    "trusted": true
   },
   "outputs": [
    {
     "data": {
      "image/png": "[encoded data removed]",
      "text/plain": [
       "<Figure size 1200x500 with 2 Axes>"
      ]
     },
     "metadata": {},
     "output_type": "display_data"
    }
   ],
   "source": [
    "# Compare the amount of internet traffic consumed by users per plan\n",
    "# Create separate DataFrames for each plan\n",
    "surf_internet = merged_df[merged_df['plan'] == 'surf']['gb_used']\n",
    "ultimate_internet = merged_df[merged_df['plan'] == 'ultimate']['gb_used']\n",
    "\n",
    "# Create subplots\n",
    "fig, axes = plt.subplots(nrows=1, ncols=2, figsize=(12, 5))\n",
    "\n",
    "# Plot histograms\n",
    "axes[0].hist(surf_internet, bins=20, color='blue', alpha=0.7)\n",
    "axes[0].set_xlabel('GB Used')\n",
    "axes[0].set_ylabel('Frequency')\n",
    "axes[0].set_title('Internet Traffic Distribution (Surf)')\n",
    "\n",
    "axes[1].hist(ultimate_internet, bins=20, color='orange', alpha=0.7)\n",
    "axes[1].set_xlabel('GB Used')\n",
    "axes[1].set_ylabel('Frequency')\n",
    "axes[1].set_title('Internet Traffic Distribution (Ultimate)')\n",
    "\n",
    "# Adjust layout and show plot\n",
    "plt.tight_layout()\n",
    "plt.show()"
   ]
  },
  {
   "cell_type": "markdown",
   "metadata": {},
   "source": [
    "Interpretation:\n",
    "\n",
    "Variability: Both histograms confirm the high variability in data usage. There's a wide range of data consumption behaviors among users within each plan.\n",
    "\n",
    "Plan Differences: The Ultimate plan, with its higher data allowance (30GB), shows a distribution shifted towards higher usage compared to the Surf plan (15GB). However, a significant portion of Ultimate users still consume a relatively small amount of data.\n",
    "\n",
    "Overage Potential: The right-skewed distributions in both plans indicate that a portion of users in each plan could be exceeding their included data, potentially leading to overage charges."
   ]
  },
  {
   "cell_type": "markdown",
   "metadata": {},
   "source": [
    "## Revenue"
   ]
  },
  {
   "cell_type": "code",
   "execution_count": 30,
   "metadata": {
    "trusted": true
   },
   "outputs": [
    {
     "name": "stdout",
     "output_type": "stream",
     "text": [
      "       plan       mean        std\n",
      "0      surf  60.322740  55.261366\n",
      "1  ultimate  72.313889  11.395108\n"
     ]
    },
    {
     "data": {
      "image/png": "[encoded data removed]",
      "text/plain": [
       "<Figure size 800x600 with 1 Axes>"
      ]
     },
     "metadata": {},
     "output_type": "display_data"
    }
   ],
   "source": [
    "# Calculate mean and standard deviation of revenue for each plan\n",
    "plan_revenue_stats = merged_df.groupby('plan')['total_revenue'].agg(['mean', 'std']).reset_index()\n",
    "\n",
    "print(plan_revenue_stats)\n",
    "\n",
    "# Create a boxplot to visualize revenue distribution\n",
    "plt.figure(figsize=(8, 6))\n",
    "sns.boxplot(x='plan', y='total_revenue', data=merged_df)\n",
    "plt.xlabel('Plan')\n",
    "plt.ylabel('Total Revenue')\n",
    "plt.title('Distribution of Total Revenue by Plan')\n",
    "plt.show()"
   ]
  },
  {
   "cell_type": "markdown",
   "metadata": {},
   "source": [
    "Median Revenue: The median total revenue for the \"Surf\" plan is significantly higher than that of the \"Ultimate\" plan. This suggests that, on average, the company generates more revenue from users on the Surf plan.\n",
    "\n",
    "Distribution: Both plans exhibit right-skewed distributions, with a longer tail towards higher revenue values. This indicates that there are a smaller number of users who generate significantly more revenue compared to the majority.\n",
    "\n",
    "Outliers: The presence of outliers in both plans suggests that there are a few users who generate significantly more revenue than the typical user."
   ]
  },
  {
   "cell_type": "markdown",
   "metadata": {},
   "source": [
    "## Test statistical hypotheses"
   ]
  },
  {
   "cell_type": "markdown",
   "metadata": {},
   "source": [
    "[Test the hypothesis that the average revenue from users of the Ultimate and Surf calling plans differs.]"
   ]
  },
  {
   "cell_type": "markdown",
   "metadata": {},
   "source": [
    "[Formulate the null and the alternative hypotheses, choose the statistical test, decide on the alpha value.]"
   ]
  },
  {
   "cell_type": "code",
   "execution_count": 31,
   "metadata": {
    "trusted": true
   },
   "outputs": [
    {
     "name": "stdout",
     "output_type": "stream",
     "text": [
      "p-value: 2.4465379691382013e-08\n",
      "We reject the null hypothesis\n"
     ]
    }
   ],
   "source": [
    "# Separate revenue data for each plan\n",
    "from scipy import stats as st\n",
    "\n",
    "ultimate_revenue = merged_df[merged_df['plan'] == 'ultimate'].groupby('user_id')['total_revenue'].mean()\n",
    "surf_revenue = merged_df[merged_df['plan'] == 'surf'].groupby('user_id')['total_revenue'].mean()\n",
    "\n",
    "# Perform the t-test \n",
    "alpha = 0.05\n",
    "results = st.ttest_ind(ultimate_revenue, surf_revenue, nan_policy='omit', equal_var=False)  \n",
    "print('p-value:', results.pvalue)\n",
    "\n",
    "if results.pvalue < alpha:\n",
    "    print(\"We reject the null hypothesis\")\n",
    "else:\n",
    "    print(\"We fail to reject the null hypothesis\")"
   ]
  },
  {
   "cell_type": "markdown",
   "metadata": {},
   "source": [
    "The t-test was unable to provide conclusive evidence regarding the difference in average revenue between the Ultimate and Surf plans."
   ]
  },
  {
   "cell_type": "markdown",
   "metadata": {},
   "source": [
    "[Test the hypothesis that the average revenue from users in the NY-NJ area is different from that of the users from the other regions.]"
   ]
  },
  {
   "cell_type": "markdown",
   "metadata": {},
   "source": [
    "[Formulate the null and the alternative hypotheses, choose the statistical test, decide on the alpha value.]"
   ]
  },
  {
   "cell_type": "code",
   "execution_count": 32,
   "metadata": {
    "scrolled": true,
    "trusted": true
   },
   "outputs": [
    {
     "name": "stdout",
     "output_type": "stream",
     "text": [
      "p-value: 0.4308514126901387\n",
      "We fail to reject the null hypothesis\n"
     ]
    }
   ],
   "source": [
    "# Test the hypotheses\n",
    "\n",
    "# Create DataFrames for NY-NJ and other regions\n",
    "ny_nj_revenue = merged_df[merged_df['city'].isin(['New York-Newark-Jersey City, NY-NJ-PA MSA'])].groupby('user_id')[\"total_revenue\"].mean()\n",
    "other_regions_revenue = merged_df[~merged_df['city'].isin(['New York-Newark-Jersey City, NY-NJ-PA MSA'])].groupby('user_id')['total_revenue'].mean()\n",
    "\n",
    "# Perform the t-test \n",
    "alpha = 0.05\n",
    "results = st.ttest_ind(ny_nj_revenue, other_regions_revenue, nan_policy='omit', equal_var=False)  \n",
    "print('p-value:', results.pvalue)\n",
    "\n",
    "if results.pvalue < alpha:\n",
    "    print(\"We reject the null hypothesis\")\n",
    "else:\n",
    "    print(\"We fail to reject the null hypothesis\")\n"
   ]
  },
  {
   "cell_type": "markdown",
   "metadata": {},
   "source": [
    "the t-test was unable to provide conclusive evidence regarding the difference in average revenue between users in the NY-NJ area and other regions."
   ]
  },
  {
   "cell_type": "markdown",
   "metadata": {},
   "source": [
    "## General conclusion\n",
    "\n",
    "[List your important conclusions in this final section, make sure they cover all those important decisions (assumptions) that you've made and that led you to the way you processed and analyzed the data.]"
   ]
  },
  {
   "cell_type": "markdown",
   "metadata": {},
   "source": [
    "1. Revenue Distribution:\n",
    "\n",
    "The \"Surf\" plan appears to generate higher median revenue compared to the \"Ultimate\" plan. This suggests that a portion of Surf users exceed their included minutes, messages, or data, resulting in overage charges that contribute significantly to revenue.\n",
    "Both plans exhibit right-skewed revenue distributions, indicating that a smaller number of users generate a disproportionately large share of the revenue.\n",
    "\n",
    "2. User Behavior:\n",
    "\n",
    "Users in both plans exhibit high variability in their usage patterns. Some users consume very little, while others use a significant amount of minutes, messages, or data.\n",
    "The histograms reveal that a substantial portion of users in both plans might be exceeding their included allowances, potentially leading to overage charges.\n",
    "\n",
    "3. Plan Performance:\n",
    "\n",
    "The Ultimate plan, despite its higher price, might not be fully utilized by all users. A significant portion of users on this plan may not be consuming the full amount of minutes, messages, or data included in their plan.\n",
    "\n",
    "5. Recommendations:\n",
    "\n",
    "Pricing Optimization: Review and optimize pricing models for both plans to maximize revenue while maintaining user satisfaction.\n",
    "\n",
    "Targeted Marketing: Segment users based on their usage patterns and revenue generation to offer tailored promotions and plans.\n",
    "Usage Monitoring and Alerts: Provide users with tools to monitor their usage and receive alerts when they are approaching their plan limits.\n",
    "\n",
    "Plan Bundles: Consider offering flexible plan bundles that allow users to customize their allowances based on their specific needs.\n",
    "\n",
    "Overall:\n",
    "\n",
    "The analysis highlights the importance of understanding user behavior and usage patterns to optimize pricing, improve customer satisfaction, and maximize revenue. By analyzing usage data, segmenting users, and offering flexible plan options, Megaline can improve its service offerings and strengthen its competitive position."
   ]
  },
  {
   "cell_type": "markdown",
   "metadata": {},
   "source": [
    "Overall Conclusion for the Hypothesis Testing:\n",
    "\n",
    "This analysis investigated differences in average revenue between users of the \"Ultimate\" and \"Surf\" calling plans, and between users in the NY-NJ area and those in other regions.\n",
    "\n",
    "Plan Comparison:\n",
    "\n",
    "The hypothesis test comparing average revenue from \"Ultimate\" and \"Surf\" plan users yielded a p-value of 2.45e-08. This extremely small p-value provides very strong statistical evidence to reject the null hypothesis that the average revenues for the two plans are equal. We can confidently conclude that there is a statistically significant difference in average revenue between the \"Ultimate\" and \"Surf\" plans. \n",
    "\n",
    "Regional Comparison:\n",
    "\n",
    "The hypothesis test comparing average revenue from users in the NY-NJ area and those in other regions resulted in a p-value of 0.431. Since this p-value is much greater than our chosen significance level of 0.05, we fail to reject the null hypothesis. This means we do not have sufficient statistical evidence to conclude that there is a difference in average revenue between users in the NY-NJ area and those in other regions."
   ]
  }
 ],
 "metadata": {
  "ExecuteTimeLog": [
   {
    "duration": 828,
    "start_time": "2021-11-16T09:21:11.304Z"
   },
   {
    "duration": 893,
    "start_time": "2021-11-16T09:21:17.728Z"
   },
   {
    "duration": 1150,
    "start_time": "2021-11-16T09:21:29.568Z"
   },
   {
    "duration": 3,
    "start_time": "2021-11-16T09:24:14.495Z"
   },
   {
    "duration": 120,
    "start_time": "2021-11-16T09:24:46.630Z"
   },
   {
    "duration": 3,
    "start_time": "2021-11-16T09:28:27.882Z"
   },
   {
    "duration": 4,
    "start_time": "2021-11-16T09:29:54.281Z"
   },
   {
    "duration": 3,
    "start_time": "2021-11-16T09:30:45.936Z"
   },
   {
    "duration": 4,
    "start_time": "2021-11-16T09:31:06.300Z"
   },
   {
    "duration": 113,
    "start_time": "2021-11-16T09:31:37.208Z"
   },
   {
    "duration": 143,
    "start_time": "2021-11-16T09:31:48.656Z"
   },
   {
    "duration": 98,
    "start_time": "2021-11-16T09:31:55.678Z"
   },
   {
    "duration": 3,
    "start_time": "2021-11-16T09:32:08.535Z"
   },
   {
    "duration": 111,
    "start_time": "2021-11-16T09:32:10.120Z"
   },
   {
    "duration": 3,
    "start_time": "2021-11-16T09:32:15.732Z"
   },
   {
    "duration": 4,
    "start_time": "2021-11-16T09:32:29.423Z"
   },
   {
    "duration": 3,
    "start_time": "2021-11-16T10:03:03.074Z"
   },
   {
    "duration": 3,
    "start_time": "2021-11-16T10:10:01.288Z"
   },
   {
    "duration": 3,
    "start_time": "2021-11-16T10:10:46.923Z"
   },
   {
    "duration": 121,
    "start_time": "2021-11-16T10:37:46.494Z"
   },
   {
    "duration": 125,
    "start_time": "2021-11-16T10:38:20.632Z"
   },
   {
    "duration": 112,
    "start_time": "2021-11-16T10:46:53.001Z"
   },
   {
    "duration": 110,
    "start_time": "2021-11-16T10:48:25.775Z"
   },
   {
    "duration": 3,
    "start_time": "2021-11-16T10:50:18.720Z"
   },
   {
    "duration": 4,
    "start_time": "2021-11-16T10:50:37.649Z"
   },
   {
    "duration": 2,
    "start_time": "2021-11-16T10:50:51.884Z"
   },
   {
    "duration": 3,
    "start_time": "2021-11-16T10:51:56.237Z"
   },
   {
    "duration": 101,
    "start_time": "2021-11-16T10:53:13.791Z"
   },
   {
    "duration": 3,
    "start_time": "2021-11-16T10:55:59.186Z"
   },
   {
    "duration": 3,
    "start_time": "2021-11-16T10:56:10.751Z"
   },
   {
    "duration": 3,
    "start_time": "2021-11-16T10:56:49.038Z"
   },
   {
    "duration": 3,
    "start_time": "2021-11-16T10:56:49.174Z"
   },
   {
    "duration": 4,
    "start_time": "2021-11-16T10:56:49.414Z"
   },
   {
    "duration": 3,
    "start_time": "2021-11-16T10:56:49.680Z"
   },
   {
    "duration": 3,
    "start_time": "2021-11-16T10:56:50.370Z"
   },
   {
    "duration": 114,
    "start_time": "2021-11-16T10:59:34.518Z"
   },
   {
    "duration": 3,
    "start_time": "2021-11-16T11:01:41.201Z"
   },
   {
    "duration": 116,
    "start_time": "2021-11-16T11:01:48.754Z"
   },
   {
    "duration": 3,
    "start_time": "2021-11-16T11:02:16.685Z"
   },
   {
    "duration": 3,
    "start_time": "2021-11-16T11:02:19.479Z"
   },
   {
    "duration": 3,
    "start_time": "2021-11-16T11:02:47.067Z"
   },
   {
    "duration": 3,
    "start_time": "2021-11-16T11:02:49.353Z"
   },
   {
    "duration": 3,
    "start_time": "2021-11-16T11:03:07.835Z"
   },
   {
    "duration": 3,
    "start_time": "2021-11-16T11:03:07.953Z"
   },
   {
    "duration": 112,
    "start_time": "2021-11-16T11:07:52.072Z"
   },
   {
    "duration": 187,
    "start_time": "2021-11-16T11:09:23.468Z"
   },
   {
    "duration": 4,
    "start_time": "2021-11-16T11:10:01.455Z"
   },
   {
    "duration": 3,
    "start_time": "2021-11-16T11:10:05.069Z"
   },
   {
    "duration": 4,
    "start_time": "2021-11-16T11:10:13.376Z"
   },
   {
    "duration": 3,
    "start_time": "2021-11-16T11:10:14.434Z"
   },
   {
    "duration": 3,
    "start_time": "2021-11-16T11:10:22.853Z"
   },
   {
    "duration": 4,
    "start_time": "2021-11-16T11:27:29.279Z"
   },
   {
    "duration": 4,
    "start_time": "2021-11-16T11:29:08.919Z"
   },
   {
    "duration": 118,
    "start_time": "2021-11-16T11:29:46.703Z"
   },
   {
    "duration": 437,
    "start_time": "2021-11-16T11:36:02.181Z"
   },
   {
    "duration": 157,
    "start_time": "2021-11-16T11:36:14.388Z"
   },
   {
    "duration": 207,
    "start_time": "2021-11-16T11:47:15.898Z"
   },
   {
    "duration": 3,
    "start_time": "2021-11-16T11:53:52.092Z"
   },
   {
    "duration": 3,
    "start_time": "2021-11-16T11:53:52.236Z"
   },
   {
    "duration": 3,
    "start_time": "2021-11-16T11:59:12.005Z"
   },
   {
    "duration": 112,
    "start_time": "2021-11-16T12:00:33.446Z"
   },
   {
    "duration": 3,
    "start_time": "2021-11-16T12:02:14.453Z"
   },
   {
    "duration": 3,
    "start_time": "2021-11-16T12:02:39.512Z"
   },
   {
    "duration": 106,
    "start_time": "2021-11-16T12:03:03.460Z"
   },
   {
    "duration": 3,
    "start_time": "2021-11-17T20:37:21.139Z"
   },
   {
    "duration": 3,
    "start_time": "2021-11-17T20:37:22.229Z"
   },
   {
    "duration": 3,
    "start_time": "2021-11-17T20:38:38.806Z"
   },
   {
    "duration": 3,
    "start_time": "2021-11-17T20:38:41.958Z"
   },
   {
    "duration": 3,
    "start_time": "2021-11-17T20:43:46.551Z"
   },
   {
    "duration": 4,
    "start_time": "2021-11-17T20:58:21.835Z"
   },
   {
    "duration": 3,
    "start_time": "2021-11-17T20:59:21.872Z"
   },
   {
    "duration": 4,
    "start_time": "2021-11-17T20:59:45.352Z"
   },
   {
    "duration": 4,
    "start_time": "2021-11-17T20:59:49.646Z"
   },
   {
    "duration": 159,
    "start_time": "2021-11-17T21:02:26.949Z"
   },
   {
    "duration": 3,
    "start_time": "2021-11-17T21:03:53.461Z"
   },
   {
    "duration": 3,
    "start_time": "2021-11-17T21:03:53.694Z"
   },
   {
    "duration": 3,
    "start_time": "2021-11-17T21:05:28.145Z"
   },
   {
    "duration": 116,
    "start_time": "2021-11-17T21:05:57.787Z"
   },
   {
    "duration": 3,
    "start_time": "2021-11-17T21:06:37.993Z"
   },
   {
    "duration": 3,
    "start_time": "2021-11-17T21:06:38.261Z"
   },
   {
    "duration": 3,
    "start_time": "2021-11-17T21:11:54.358Z"
   },
   {
    "duration": 3,
    "start_time": "2021-11-17T21:12:43.846Z"
   },
   {
    "duration": 4,
    "start_time": "2021-11-17T21:13:08.773Z"
   },
   {
    "duration": 3,
    "start_time": "2021-11-17T21:14:44.441Z"
   },
   {
    "duration": 3,
    "start_time": "2021-11-17T21:15:42.059Z"
   },
   {
    "duration": 4,
    "start_time": "2021-11-17T21:15:51.995Z"
   },
   {
    "duration": 3,
    "start_time": "2021-11-17T21:15:53.923Z"
   },
   {
    "duration": 3,
    "start_time": "2021-11-17T21:15:55.282Z"
   },
   {
    "duration": 3,
    "start_time": "2021-11-17T21:16:28.492Z"
   },
   {
    "duration": 3,
    "start_time": "2021-11-17T21:16:32.603Z"
   },
   {
    "duration": 3,
    "start_time": "2021-11-17T21:17:06.941Z"
   },
   {
    "duration": 98,
    "start_time": "2021-11-17T21:18:05.733Z"
   },
   {
    "duration": 4,
    "start_time": "2021-11-17T21:21:35.255Z"
   },
   {
    "duration": 3,
    "start_time": "2021-11-17T21:21:37.804Z"
   },
   {
    "duration": 4,
    "start_time": "2021-11-17T21:23:06.071Z"
   },
   {
    "duration": 3,
    "start_time": "2021-11-17T21:23:24.799Z"
   },
   {
    "duration": 3,
    "start_time": "2021-11-17T21:23:32.591Z"
   },
   {
    "duration": 98,
    "start_time": "2021-11-17T21:28:31.559Z"
   },
   {
    "duration": 3,
    "start_time": "2021-11-17T21:28:45.448Z"
   },
   {
    "duration": 3,
    "start_time": "2021-11-17T21:29:17.303Z"
   },
   {
    "duration": 3,
    "start_time": "2021-11-17T21:29:29.617Z"
   },
   {
    "duration": 3,
    "start_time": "2021-11-17T21:29:32.681Z"
   },
   {
    "duration": 3,
    "start_time": "2021-11-17T21:36:11.474Z"
   },
   {
    "duration": 3,
    "start_time": "2021-11-17T21:36:14.791Z"
   },
   {
    "duration": 3,
    "start_time": "2021-11-17T21:36:53.943Z"
   },
   {
    "duration": 3,
    "start_time": "2021-11-17T21:36:56.165Z"
   },
   {
    "duration": 4,
    "start_time": "2021-11-17T21:37:16.590Z"
   },
   {
    "duration": 3,
    "start_time": "2021-11-17T21:37:22.702Z"
   },
   {
    "duration": 4,
    "start_time": "2021-11-17T21:38:03.479Z"
   },
   {
    "duration": 3,
    "start_time": "2021-11-17T21:38:08.601Z"
   },
   {
    "duration": 3,
    "start_time": "2021-11-17T21:38:12.928Z"
   },
   {
    "duration": 3,
    "start_time": "2021-11-17T21:38:48.896Z"
   },
   {
    "duration": 2,
    "start_time": "2021-11-17T21:38:49.171Z"
   },
   {
    "duration": 4,
    "start_time": "2021-11-17T21:39:57.889Z"
   },
   {
    "duration": 3,
    "start_time": "2021-11-17T21:39:58.057Z"
   },
   {
    "duration": 3,
    "start_time": "2021-11-17T21:41:20.108Z"
   },
   {
    "duration": 3,
    "start_time": "2021-11-17T21:41:20.629Z"
   },
   {
    "duration": 3,
    "start_time": "2021-11-17T21:42:49.136Z"
   },
   {
    "duration": 3,
    "start_time": "2021-11-17T21:43:15.137Z"
   },
   {
    "duration": 4,
    "start_time": "2021-11-17T21:43:16.766Z"
   },
   {
    "duration": 4,
    "start_time": "2021-11-17T21:43:31.711Z"
   },
   {
    "duration": 3,
    "start_time": "2021-11-17T21:43:36.312Z"
   },
   {
    "duration": 4,
    "start_time": "2021-11-17T21:45:08.825Z"
   },
   {
    "duration": 4,
    "start_time": "2021-11-17T21:45:10.119Z"
   },
   {
    "duration": 4,
    "start_time": "2021-11-17T21:45:13.748Z"
   },
   {
    "duration": 3,
    "start_time": "2021-11-17T21:45:22.219Z"
   },
   {
    "duration": 3,
    "start_time": "2021-11-17T21:45:33.412Z"
   },
   {
    "duration": 2,
    "start_time": "2021-11-17T21:46:01.885Z"
   },
   {
    "duration": 3,
    "start_time": "2021-11-17T21:46:03.628Z"
   },
   {
    "duration": 107,
    "start_time": "2021-11-17T21:47:32.512Z"
   },
   {
    "duration": 103,
    "start_time": "2021-11-17T21:50:36.243Z"
   },
   {
    "duration": 3,
    "start_time": "2021-11-18T06:28:31.440Z"
   },
   {
    "duration": 3,
    "start_time": "2021-11-18T06:29:00.168Z"
   },
   {
    "duration": 3,
    "start_time": "2021-11-18T06:31:27.008Z"
   },
   {
    "duration": 2,
    "start_time": "2021-11-18T06:35:34.288Z"
   },
   {
    "duration": 2,
    "start_time": "2021-11-18T06:38:04.527Z"
   },
   {
    "duration": 2587,
    "start_time": "2025-01-28T14:16:00.478Z"
   },
   {
    "duration": 223,
    "start_time": "2025-01-28T14:34:29.943Z"
   },
   {
    "duration": 797,
    "start_time": "2025-01-28T14:34:58.390Z"
   },
   {
    "duration": 248,
    "start_time": "2025-01-28T14:35:04.772Z"
   },
   {
    "duration": 23,
    "start_time": "2025-01-28T14:35:10.353Z"
   },
   {
    "duration": 11,
    "start_time": "2025-01-28T14:39:40.873Z"
   },
   {
    "duration": 529,
    "start_time": "2025-01-28T14:39:57.096Z"
   },
   {
    "duration": 7,
    "start_time": "2025-01-28T14:43:05.026Z"
   },
   {
    "duration": 17,
    "start_time": "2025-01-28T15:23:15.083Z"
   },
   {
    "duration": 9,
    "start_time": "2025-01-28T15:25:09.104Z"
   },
   {
    "duration": 84,
    "start_time": "2025-01-28T15:49:55.555Z"
   },
   {
    "duration": 9,
    "start_time": "2025-01-28T15:52:04.261Z"
   },
   {
    "duration": 4,
    "start_time": "2025-01-28T15:57:46.248Z"
   },
   {
    "duration": 14,
    "start_time": "2025-01-28T15:58:11.267Z"
   },
   {
    "duration": 44,
    "start_time": "2025-01-28T16:04:16.086Z"
   },
   {
    "duration": 8,
    "start_time": "2025-01-28T16:05:11.700Z"
   },
   {
    "duration": 94,
    "start_time": "2025-01-28T16:09:16.858Z"
   },
   {
    "duration": 9,
    "start_time": "2025-01-28T16:10:52.624Z"
   },
   {
    "duration": 11,
    "start_time": "2025-01-28T16:20:42.247Z"
   },
   {
    "duration": 13,
    "start_time": "2025-01-28T16:21:47.251Z"
   },
   {
    "duration": 7,
    "start_time": "2025-01-28T16:24:05.058Z"
   },
   {
    "duration": 60,
    "start_time": "2025-01-28T16:50:25.646Z"
   },
   {
    "duration": 397,
    "start_time": "2025-01-28T16:51:49.741Z"
   },
   {
    "duration": 71,
    "start_time": "2025-01-28T16:59:46.980Z"
   },
   {
    "duration": 94,
    "start_time": "2025-01-28T17:05:30.623Z"
   },
   {
    "duration": 156,
    "start_time": "2025-01-28T17:08:49.244Z"
   },
   {
    "duration": 73,
    "start_time": "2025-01-28T17:13:50.920Z"
   },
   {
    "duration": 300,
    "start_time": "2025-01-28T17:14:27.142Z"
   },
   {
    "duration": 73,
    "start_time": "2025-01-28T17:15:26.934Z"
   },
   {
    "duration": 73,
    "start_time": "2025-01-28T17:16:42.977Z"
   },
   {
    "duration": 186,
    "start_time": "2025-01-28T17:19:07.595Z"
   },
   {
    "duration": 8,
    "start_time": "2025-01-28T17:25:14.572Z"
   },
   {
    "duration": 66,
    "start_time": "2025-01-28T17:25:35.040Z"
   },
   {
    "duration": 238,
    "start_time": "2025-01-28T17:26:36.341Z"
   },
   {
    "duration": 6,
    "start_time": "2025-01-28T17:27:09.743Z"
   },
   {
    "duration": 74,
    "start_time": "2025-01-28T17:27:19.718Z"
   },
   {
    "duration": 69,
    "start_time": "2025-01-28T17:35:16.633Z"
   },
   {
    "duration": 59,
    "start_time": "2025-01-28T17:50:53.027Z"
   },
   {
    "duration": 141,
    "start_time": "2025-01-28T17:51:14.440Z"
   },
   {
    "duration": 166,
    "start_time": "2025-01-28T17:59:05.259Z"
   },
   {
    "duration": 58,
    "start_time": "2025-01-28T18:10:21.964Z"
   },
   {
    "duration": 60,
    "start_time": "2025-01-28T18:14:59.147Z"
   },
   {
    "duration": 67,
    "start_time": "2025-01-28T18:16:29.995Z"
   },
   {
    "duration": 61,
    "start_time": "2025-01-28T18:17:17.038Z"
   },
   {
    "duration": 57,
    "start_time": "2025-01-28T18:19:05.961Z"
   },
   {
    "duration": 60,
    "start_time": "2025-01-28T18:27:51.337Z"
   },
   {
    "duration": 13,
    "start_time": "2025-01-28T18:40:49.894Z"
   },
   {
    "duration": 13,
    "start_time": "2025-01-28T18:59:39.634Z"
   },
   {
    "duration": 33,
    "start_time": "2025-01-28T19:08:21.986Z"
   },
   {
    "duration": 30,
    "start_time": "2025-01-28T19:08:39.512Z"
   },
   {
    "duration": 46,
    "start_time": "2025-01-28T19:09:09.739Z"
   },
   {
    "duration": 48,
    "start_time": "2025-01-28T19:16:14.556Z"
   },
   {
    "duration": 85,
    "start_time": "2025-01-28T19:35:33.902Z"
   },
   {
    "duration": 2606,
    "start_time": "2025-01-28T23:41:30.284Z"
   },
   {
    "duration": 209,
    "start_time": "2025-01-28T23:41:43.076Z"
   },
   {
    "duration": 22,
    "start_time": "2025-01-28T23:41:53.274Z"
   },
   {
    "duration": 10,
    "start_time": "2025-01-28T23:42:10.848Z"
   },
   {
    "duration": 33,
    "start_time": "2025-01-28T23:50:08.033Z"
   },
   {
    "duration": 32,
    "start_time": "2025-01-28T23:50:42.735Z"
   },
   {
    "duration": 9,
    "start_time": "2025-01-28T23:54:59.632Z"
   },
   {
    "duration": 6,
    "start_time": "2025-01-28T23:55:40.976Z"
   },
   {
    "duration": 81,
    "start_time": "2025-01-28T23:56:24.448Z"
   },
   {
    "duration": 9,
    "start_time": "2025-01-28T23:56:36.629Z"
   },
   {
    "duration": 13,
    "start_time": "2025-01-28T23:56:55.395Z"
   },
   {
    "duration": 28,
    "start_time": "2025-01-29T00:00:38.985Z"
   },
   {
    "duration": 48,
    "start_time": "2025-01-29T00:00:51.582Z"
   },
   {
    "duration": 8,
    "start_time": "2025-01-29T00:00:59.811Z"
   },
   {
    "duration": 45,
    "start_time": "2025-01-29T00:03:43.437Z"
   },
   {
    "duration": 90,
    "start_time": "2025-01-29T00:04:17.219Z"
   },
   {
    "duration": 10,
    "start_time": "2025-01-29T00:04:25.669Z"
   },
   {
    "duration": 14,
    "start_time": "2025-01-29T00:04:40.214Z"
   },
   {
    "duration": 15,
    "start_time": "2025-01-29T00:07:09.179Z"
   },
   {
    "duration": 7,
    "start_time": "2025-01-29T00:07:59.942Z"
   },
   {
    "duration": 55,
    "start_time": "2025-01-29T00:10:54.269Z"
   },
   {
    "duration": 13,
    "start_time": "2025-01-29T00:12:44.679Z"
   },
   {
    "duration": 30,
    "start_time": "2025-01-29T00:14:22.751Z"
   },
   {
    "duration": 39,
    "start_time": "2025-01-29T00:16:16.688Z"
   },
   {
    "duration": 711,
    "start_time": "2025-01-29T00:22:25.308Z"
   },
   {
    "duration": 36,
    "start_time": "2025-01-29T00:24:04.498Z"
   },
   {
    "duration": 20,
    "start_time": "2025-01-29T00:34:46.796Z"
   },
   {
    "duration": 375,
    "start_time": "2025-01-29T00:57:50.613Z"
   },
   {
    "duration": 50,
    "start_time": "2025-01-29T00:59:00.535Z"
   },
   {
    "duration": 228,
    "start_time": "2025-01-29T01:04:08.264Z"
   },
   {
    "duration": 382,
    "start_time": "2025-01-29T01:08:11.832Z"
   },
   {
    "duration": 341,
    "start_time": "2025-01-29T01:16:15.563Z"
   },
   {
    "duration": 9,
    "start_time": "2025-01-29T01:18:43.227Z"
   },
   {
    "duration": 151,
    "start_time": "2025-01-29T01:20:25.136Z"
   },
   {
    "duration": 367,
    "start_time": "2025-01-29T01:24:17.663Z"
   },
   {
    "duration": 350,
    "start_time": "2025-01-29T01:27:07.789Z"
   },
   {
    "duration": 132,
    "start_time": "2025-01-29T01:29:26.026Z"
   },
   {
    "duration": 39,
    "start_time": "2025-01-29T01:32:52.243Z"
   },
   {
    "duration": 8,
    "start_time": "2025-01-29T01:34:48.318Z"
   },
   {
    "duration": 57,
    "start_time": "2025-01-29T01:37:21.229Z"
   },
   {
    "duration": 16,
    "start_time": "2025-01-29T01:44:15.955Z"
   },
   {
    "duration": 2464,
    "start_time": "2025-01-29T15:47:47.892Z"
   },
   {
    "duration": 212,
    "start_time": "2025-01-29T15:50:04.294Z"
   },
   {
    "duration": 23,
    "start_time": "2025-01-29T15:50:27.911Z"
   },
   {
    "duration": 10,
    "start_time": "2025-01-29T15:51:10.098Z"
   },
   {
    "duration": 15,
    "start_time": "2025-01-29T15:52:40.327Z"
   },
   {
    "duration": 9,
    "start_time": "2025-01-29T15:52:53.228Z"
   },
   {
    "duration": 5,
    "start_time": "2025-01-29T15:53:27.539Z"
   },
   {
    "duration": 79,
    "start_time": "2025-01-29T15:53:40.581Z"
   },
   {
    "duration": 10,
    "start_time": "2025-01-29T15:54:17.530Z"
   },
   {
    "duration": 14,
    "start_time": "2025-01-29T15:54:47.303Z"
   },
   {
    "duration": 18,
    "start_time": "2025-01-29T15:55:32.576Z"
   },
   {
    "duration": 40,
    "start_time": "2025-01-29T15:55:47.493Z"
   },
   {
    "duration": 8,
    "start_time": "2025-01-29T15:56:20.749Z"
   },
   {
    "duration": 17,
    "start_time": "2025-01-29T15:56:37.317Z"
   },
   {
    "duration": 98,
    "start_time": "2025-01-29T15:56:46.033Z"
   },
   {
    "duration": 9,
    "start_time": "2025-01-29T15:56:51.289Z"
   },
   {
    "duration": 10,
    "start_time": "2025-01-29T15:57:22.340Z"
   },
   {
    "duration": 15,
    "start_time": "2025-01-29T15:57:33.362Z"
   },
   {
    "duration": 7,
    "start_time": "2025-01-29T15:57:44.906Z"
   },
   {
    "duration": 53,
    "start_time": "2025-01-29T15:59:51.413Z"
   },
   {
    "duration": 13,
    "start_time": "2025-01-29T16:01:19.022Z"
   },
   {
    "duration": 31,
    "start_time": "2025-01-29T16:02:30.677Z"
   },
   {
    "duration": 39,
    "start_time": "2025-01-29T16:03:44.068Z"
   },
   {
    "duration": 35,
    "start_time": "2025-01-29T16:06:29.302Z"
   },
   {
    "duration": 18,
    "start_time": "2025-01-29T16:07:27.292Z"
   },
   {
    "duration": 33,
    "start_time": "2025-01-29T16:12:23.644Z"
   },
   {
    "duration": 185,
    "start_time": "2025-01-29T16:15:43.329Z"
   },
   {
    "duration": 366,
    "start_time": "2025-01-29T16:38:03.489Z"
   },
   {
    "duration": 9,
    "start_time": "2025-01-29T16:50:03.659Z"
   },
   {
    "duration": 134,
    "start_time": "2025-01-29T16:55:53.202Z"
   },
   {
    "duration": 340,
    "start_time": "2025-01-29T17:01:28.514Z"
   },
   {
    "duration": 10,
    "start_time": "2025-01-29T17:07:15.787Z"
   },
   {
    "duration": 6,
    "start_time": "2025-01-29T17:11:30.578Z"
   },
   {
    "duration": 9,
    "start_time": "2025-01-29T17:11:47.878Z"
   },
   {
    "duration": 326,
    "start_time": "2025-01-29T17:39:23.763Z"
   },
   {
    "duration": 109,
    "start_time": "2025-01-29T17:42:55.708Z"
   },
   {
    "duration": 7,
    "start_time": "2025-01-29T17:45:53.703Z"
   },
   {
    "duration": 11,
    "start_time": "2025-01-29T17:48:51.020Z"
   },
   {
    "duration": 803,
    "start_time": "2025-01-29T18:09:29.414Z"
   },
   {
    "duration": 153,
    "start_time": "2025-01-29T18:09:36.977Z"
   },
   {
    "duration": 22,
    "start_time": "2025-01-29T18:09:59.788Z"
   },
   {
    "duration": 10,
    "start_time": "2025-01-29T18:10:08.914Z"
   },
   {
    "duration": 16,
    "start_time": "2025-01-29T18:10:49.597Z"
   },
   {
    "duration": 8,
    "start_time": "2025-01-29T18:10:55.584Z"
   },
   {
    "duration": 6,
    "start_time": "2025-01-29T18:11:12.414Z"
   },
   {
    "duration": 81,
    "start_time": "2025-01-29T18:11:24.807Z"
   },
   {
    "duration": 9,
    "start_time": "2025-01-29T18:11:31.147Z"
   },
   {
    "duration": 13,
    "start_time": "2025-01-29T18:11:48.354Z"
   },
   {
    "duration": 18,
    "start_time": "2025-01-29T18:11:57.914Z"
   },
   {
    "duration": 39,
    "start_time": "2025-01-29T18:12:04.773Z"
   },
   {
    "duration": 8,
    "start_time": "2025-01-29T18:12:10.034Z"
   },
   {
    "duration": 12,
    "start_time": "2025-01-29T18:12:32.618Z"
   },
   {
    "duration": 78,
    "start_time": "2025-01-29T18:12:37.045Z"
   },
   {
    "duration": 11,
    "start_time": "2025-01-29T18:12:41.892Z"
   },
   {
    "duration": 10,
    "start_time": "2025-01-29T18:12:52.992Z"
   },
   {
    "duration": 15,
    "start_time": "2025-01-29T18:13:00.811Z"
   },
   {
    "duration": 7,
    "start_time": "2025-01-29T18:13:14.193Z"
   },
   {
    "duration": 53,
    "start_time": "2025-01-29T18:14:54.415Z"
   },
   {
    "duration": 12,
    "start_time": "2025-01-29T18:15:01.183Z"
   },
   {
    "duration": 31,
    "start_time": "2025-01-29T18:15:06.496Z"
   },
   {
    "duration": 39,
    "start_time": "2025-01-29T18:15:11.948Z"
   },
   {
    "duration": 34,
    "start_time": "2025-01-29T18:15:38.816Z"
   },
   {
    "duration": 16,
    "start_time": "2025-01-29T18:15:48.871Z"
   },
   {
    "duration": 33,
    "start_time": "2025-01-29T18:15:58.242Z"
   },
   {
    "duration": 181,
    "start_time": "2025-01-29T18:16:18.762Z"
   },
   {
    "duration": 394,
    "start_time": "2025-01-29T18:16:28.288Z"
   },
   {
    "duration": 9,
    "start_time": "2025-01-29T18:16:42.087Z"
   },
   {
    "duration": 110,
    "start_time": "2025-01-29T18:16:47.916Z"
   },
   {
    "duration": 357,
    "start_time": "2025-01-29T18:16:57.960Z"
   },
   {
    "duration": 9,
    "start_time": "2025-01-29T18:17:02.583Z"
   },
   {
    "duration": 360,
    "start_time": "2025-01-29T18:17:19.690Z"
   },
   {
    "duration": 112,
    "start_time": "2025-01-29T18:17:54.759Z"
   },
   {
    "duration": 7,
    "start_time": "2025-01-29T18:18:38.999Z"
   },
   {
    "duration": 11,
    "start_time": "2025-01-29T18:19:05.160Z"
   },
   {
    "duration": 2606,
    "start_time": "2025-01-29T18:25:30.678Z"
   },
   {
    "duration": 211,
    "start_time": "2025-01-29T18:25:33.286Z"
   },
   {
    "duration": 24,
    "start_time": "2025-01-29T18:25:33.498Z"
   },
   {
    "duration": 10,
    "start_time": "2025-01-29T18:25:33.523Z"
   },
   {
    "duration": 18,
    "start_time": "2025-01-29T18:25:33.534Z"
   },
   {
    "duration": 9,
    "start_time": "2025-01-29T18:25:33.554Z"
   },
   {
    "duration": 6,
    "start_time": "2025-01-29T18:25:33.565Z"
   },
   {
    "duration": 112,
    "start_time": "2025-01-29T18:25:33.573Z"
   },
   {
    "duration": 10,
    "start_time": "2025-01-29T18:25:33.687Z"
   },
   {
    "duration": 12,
    "start_time": "2025-01-29T18:25:33.701Z"
   },
   {
    "duration": 34,
    "start_time": "2025-01-29T18:25:33.715Z"
   },
   {
    "duration": 41,
    "start_time": "2025-01-29T18:25:33.750Z"
   },
   {
    "duration": 7,
    "start_time": "2025-01-29T18:25:33.793Z"
   },
   {
    "duration": 12,
    "start_time": "2025-01-29T18:25:33.801Z"
   },
   {
    "duration": 103,
    "start_time": "2025-01-29T18:25:33.814Z"
   },
   {
    "duration": 9,
    "start_time": "2025-01-29T18:25:33.919Z"
   },
   {
    "duration": 5,
    "start_time": "2025-01-29T18:25:33.943Z"
   },
   {
    "duration": 14,
    "start_time": "2025-01-29T18:25:33.949Z"
   },
   {
    "duration": 7,
    "start_time": "2025-01-29T18:25:33.965Z"
   },
   {
    "duration": 75,
    "start_time": "2025-01-29T18:25:33.973Z"
   },
   {
    "duration": 13,
    "start_time": "2025-01-29T18:25:34.051Z"
   },
   {
    "duration": 30,
    "start_time": "2025-01-29T18:25:34.065Z"
   },
   {
    "duration": 61,
    "start_time": "2025-01-29T18:25:34.096Z"
   },
   {
    "duration": 32,
    "start_time": "2025-01-29T18:25:34.159Z"
   },
   {
    "duration": 15,
    "start_time": "2025-01-29T18:25:34.193Z"
   },
   {
    "duration": 54,
    "start_time": "2025-01-29T18:25:34.209Z"
   },
   {
    "duration": 188,
    "start_time": "2025-01-29T18:25:34.264Z"
   },
   {
    "duration": 349,
    "start_time": "2025-01-29T18:25:34.456Z"
   },
   {
    "duration": 9,
    "start_time": "2025-01-29T18:25:34.806Z"
   },
   {
    "duration": 128,
    "start_time": "2025-01-29T18:25:34.817Z"
   },
   {
    "duration": 360,
    "start_time": "2025-01-29T18:25:34.946Z"
   },
   {
    "duration": 10,
    "start_time": "2025-01-29T18:25:35.308Z"
   },
   {
    "duration": 371,
    "start_time": "2025-01-29T18:25:35.319Z"
   },
   {
    "duration": 122,
    "start_time": "2025-01-29T18:25:35.691Z"
   },
   {
    "duration": 7,
    "start_time": "2025-01-29T18:25:35.815Z"
   },
   {
    "duration": 26,
    "start_time": "2025-01-29T18:25:35.823Z"
   },
   {
    "duration": 2586,
    "start_time": "2025-01-29T21:08:41.774Z"
   },
   {
    "duration": 218,
    "start_time": "2025-01-29T21:08:48.908Z"
   },
   {
    "duration": 22,
    "start_time": "2025-01-29T21:08:54.709Z"
   },
   {
    "duration": 9,
    "start_time": "2025-01-29T21:08:59.758Z"
   },
   {
    "duration": 17,
    "start_time": "2025-01-29T21:09:06.074Z"
   },
   {
    "duration": 9,
    "start_time": "2025-01-29T21:09:11.203Z"
   },
   {
    "duration": 6,
    "start_time": "2025-01-29T21:09:25.989Z"
   },
   {
    "duration": 82,
    "start_time": "2025-01-29T21:09:38.247Z"
   },
   {
    "duration": 9,
    "start_time": "2025-01-29T21:09:42.745Z"
   },
   {
    "duration": 13,
    "start_time": "2025-01-29T21:09:49.396Z"
   },
   {
    "duration": 18,
    "start_time": "2025-01-29T21:09:59.088Z"
   },
   {
    "duration": 39,
    "start_time": "2025-01-29T21:10:04.964Z"
   },
   {
    "duration": 8,
    "start_time": "2025-01-29T21:10:09.287Z"
   },
   {
    "duration": 13,
    "start_time": "2025-01-29T21:10:17.220Z"
   },
   {
    "duration": 84,
    "start_time": "2025-01-29T21:10:22.171Z"
   },
   {
    "duration": 10,
    "start_time": "2025-01-29T21:10:28.728Z"
   },
   {
    "duration": 15,
    "start_time": "2025-01-29T21:11:08.326Z"
   },
   {
    "duration": 16,
    "start_time": "2025-01-29T21:12:37.519Z"
   },
   {
    "duration": 8,
    "start_time": "2025-01-29T21:14:39.216Z"
   },
   {
    "duration": 64,
    "start_time": "2025-01-29T21:24:48.942Z"
   },
   {
    "duration": 58,
    "start_time": "2025-01-29T21:25:49.331Z"
   },
   {
    "duration": 18,
    "start_time": "2025-01-29T21:30:20.252Z"
   },
   {
    "duration": 34,
    "start_time": "2025-01-29T21:34:57.844Z"
   },
   {
    "duration": 40,
    "start_time": "2025-01-29T21:38:27.293Z"
   },
   {
    "duration": 45,
    "start_time": "2025-01-29T21:41:23.443Z"
   },
   {
    "duration": 38,
    "start_time": "2025-01-29T21:52:40.448Z"
   },
   {
    "duration": 37,
    "start_time": "2025-01-29T21:54:41.485Z"
   },
   {
    "duration": 17,
    "start_time": "2025-01-29T21:59:14.761Z"
   },
   {
    "duration": 32,
    "start_time": "2025-01-29T22:00:15.774Z"
   },
   {
    "duration": 34,
    "start_time": "2025-01-29T22:03:02.943Z"
   },
   {
    "duration": 224,
    "start_time": "2025-01-29T22:04:15.960Z"
   },
   {
    "duration": 348,
    "start_time": "2025-01-29T22:06:24.466Z"
   },
   {
    "duration": 10,
    "start_time": "2025-01-29T22:06:41.057Z"
   },
   {
    "duration": 132,
    "start_time": "2025-01-29T22:06:57.518Z"
   },
   {
    "duration": 331,
    "start_time": "2025-01-29T22:07:31.280Z"
   },
   {
    "duration": 10,
    "start_time": "2025-01-29T22:07:50.958Z"
   },
   {
    "duration": 309,
    "start_time": "2025-01-29T22:08:09.194Z"
   },
   {
    "duration": 355,
    "start_time": "2025-01-29T22:08:57.740Z"
   },
   {
    "duration": 184,
    "start_time": "2025-01-29T22:09:10.037Z"
   },
   {
    "duration": 8,
    "start_time": "2025-01-29T22:13:28.973Z"
   },
   {
    "duration": 3049,
    "start_time": "2025-01-30T16:08:43.355Z"
   },
   {
    "duration": 264,
    "start_time": "2025-01-30T16:21:34.211Z"
   },
   {
    "duration": 24,
    "start_time": "2025-01-30T16:21:48.552Z"
   },
   {
    "duration": 12,
    "start_time": "2025-01-30T16:22:48.407Z"
   },
   {
    "duration": 16,
    "start_time": "2025-01-30T16:23:14.262Z"
   },
   {
    "duration": 10,
    "start_time": "2025-01-30T16:23:31.211Z"
   },
   {
    "duration": 70,
    "start_time": "2025-01-30T16:29:06.035Z"
   },
   {
    "duration": 12,
    "start_time": "2025-01-30T16:29:22.084Z"
   },
   {
    "duration": 14,
    "start_time": "2025-01-30T16:29:46.277Z"
   },
   {
    "duration": 29,
    "start_time": "2025-01-30T16:30:17.973Z"
   },
   {
    "duration": 9,
    "start_time": "2025-01-30T16:30:41.825Z"
   },
   {
    "duration": 65,
    "start_time": "2025-01-30T16:31:14.974Z"
   },
   {
    "duration": 11,
    "start_time": "2025-01-30T16:31:32.011Z"
   },
   {
    "duration": 16,
    "start_time": "2025-01-30T16:31:45.761Z"
   },
   {
    "duration": 11,
    "start_time": "2025-01-30T16:32:03.072Z"
   },
   {
    "duration": 57,
    "start_time": "2025-01-30T16:43:18.749Z"
   },
   {
    "duration": 14,
    "start_time": "2025-01-30T16:44:58.573Z"
   },
   {
    "duration": 33,
    "start_time": "2025-01-30T16:46:23.674Z"
   },
   {
    "duration": 40,
    "start_time": "2025-01-30T16:48:38.227Z"
   },
   {
    "duration": 33,
    "start_time": "2025-01-30T16:51:43.410Z"
   },
   {
    "duration": 36,
    "start_time": "2025-01-30T16:54:22.830Z"
   },
   {
    "duration": 54,
    "start_time": "2025-01-30T17:03:45.549Z"
   },
   {
    "duration": 51,
    "start_time": "2025-01-30T17:04:07.672Z"
   },
   {
    "duration": 15,
    "start_time": "2025-01-30T17:04:21.527Z"
   },
   {
    "duration": 14,
    "start_time": "2025-01-30T17:04:42.665Z"
   },
   {
    "duration": 32,
    "start_time": "2025-01-30T17:04:58.835Z"
   },
   {
    "duration": 33,
    "start_time": "2025-01-30T17:05:19.350Z"
   },
   {
    "duration": 40,
    "start_time": "2025-01-30T17:05:37.788Z"
   },
   {
    "duration": 38,
    "start_time": "2025-01-30T17:05:58.826Z"
   },
   {
    "duration": 32,
    "start_time": "2025-01-30T17:06:14.319Z"
   },
   {
    "duration": 33,
    "start_time": "2025-01-30T17:22:50.208Z"
   },
   {
    "duration": 40,
    "start_time": "2025-01-30T17:23:07.152Z"
   },
   {
    "duration": 15,
    "start_time": "2025-01-30T17:23:33.325Z"
   },
   {
    "duration": 20,
    "start_time": "2025-01-30T17:24:24.926Z"
   },
   {
    "duration": 30,
    "start_time": "2025-01-30T17:25:00.677Z"
   },
   {
    "duration": 189,
    "start_time": "2025-01-30T17:25:33.300Z"
   },
   {
    "duration": 338,
    "start_time": "2025-01-30T17:25:52.423Z"
   },
   {
    "duration": 10,
    "start_time": "2025-01-30T17:26:01.297Z"
   },
   {
    "duration": 117,
    "start_time": "2025-01-30T17:26:13.883Z"
   },
   {
    "duration": 355,
    "start_time": "2025-01-30T17:26:22.702Z"
   },
   {
    "duration": 11,
    "start_time": "2025-01-30T17:26:28.221Z"
   },
   {
    "duration": 399,
    "start_time": "2025-01-30T17:26:38.022Z"
   },
   {
    "duration": 377,
    "start_time": "2025-01-30T17:26:50.578Z"
   },
   {
    "duration": 112,
    "start_time": "2025-01-30T17:27:23.237Z"
   },
   {
    "duration": 245,
    "start_time": "2025-01-30T17:44:11.774Z"
   },
   {
    "duration": 7,
    "start_time": "2025-01-30T17:44:53.979Z"
   },
   {
    "duration": 414,
    "start_time": "2025-01-30T17:51:48.556Z"
   },
   {
    "duration": 8,
    "start_time": "2025-01-30T17:52:07.352Z"
   },
   {
    "duration": 7,
    "start_time": "2025-01-30T17:59:24.220Z"
   },
   {
    "duration": 7,
    "start_time": "2025-01-30T18:00:12.629Z"
   },
   {
    "duration": 7,
    "start_time": "2025-01-30T18:01:00.176Z"
   },
   {
    "duration": 9,
    "start_time": "2025-01-30T18:03:45.044Z"
   },
   {
    "duration": 8,
    "start_time": "2025-01-30T18:09:09.700Z"
   },
   {
    "duration": 7,
    "start_time": "2025-01-30T18:20:36.757Z"
   },
   {
    "duration": 10,
    "start_time": "2025-01-30T18:24:03.647Z"
   },
   {
    "duration": 9,
    "start_time": "2025-01-30T18:35:34.996Z"
   },
   {
    "duration": 898,
    "start_time": "2025-01-30T18:55:32.327Z"
   },
   {
    "duration": 196,
    "start_time": "2025-01-30T18:55:37.312Z"
   },
   {
    "duration": 22,
    "start_time": "2025-01-30T18:55:42.613Z"
   },
   {
    "duration": 11,
    "start_time": "2025-01-30T18:55:47.951Z"
   },
   {
    "duration": 22,
    "start_time": "2025-01-30T18:55:53.112Z"
   },
   {
    "duration": 10,
    "start_time": "2025-01-30T18:56:10.395Z"
   },
   {
    "duration": 65,
    "start_time": "2025-01-30T18:56:26.220Z"
   },
   {
    "duration": 9,
    "start_time": "2025-01-30T18:56:30.016Z"
   },
   {
    "duration": 14,
    "start_time": "2025-01-30T18:56:34.390Z"
   },
   {
    "duration": 32,
    "start_time": "2025-01-30T18:56:41.885Z"
   },
   {
    "duration": 11,
    "start_time": "2025-01-30T18:56:45.837Z"
   },
   {
    "duration": 71,
    "start_time": "2025-01-30T18:56:51.166Z"
   },
   {
    "duration": 9,
    "start_time": "2025-01-30T18:56:55.614Z"
   },
   {
    "duration": 16,
    "start_time": "2025-01-30T18:56:59.316Z"
   },
   {
    "duration": 10,
    "start_time": "2025-01-30T18:57:05.242Z"
   },
   {
    "duration": 60,
    "start_time": "2025-01-30T18:57:17.410Z"
   },
   {
    "duration": 14,
    "start_time": "2025-01-30T18:57:21.631Z"
   },
   {
    "duration": 37,
    "start_time": "2025-01-30T18:57:27.282Z"
   },
   {
    "duration": 44,
    "start_time": "2025-01-30T18:57:35.943Z"
   },
   {
    "duration": 36,
    "start_time": "2025-01-30T18:57:41.613Z"
   },
   {
    "duration": 18,
    "start_time": "2025-01-30T18:57:46.153Z"
   },
   {
    "duration": 31,
    "start_time": "2025-01-30T18:57:57.561Z"
   },
   {
    "duration": 186,
    "start_time": "2025-01-30T18:58:06.440Z"
   },
   {
    "duration": 414,
    "start_time": "2025-01-30T18:58:17.035Z"
   },
   {
    "duration": 11,
    "start_time": "2025-01-30T18:58:23.707Z"
   },
   {
    "duration": 112,
    "start_time": "2025-01-30T18:58:26.666Z"
   },
   {
    "duration": 371,
    "start_time": "2025-01-30T18:58:41.785Z"
   },
   {
    "duration": 11,
    "start_time": "2025-01-30T18:58:46.296Z"
   },
   {
    "duration": 400,
    "start_time": "2025-01-30T18:58:54.659Z"
   },
   {
    "duration": 112,
    "start_time": "2025-01-30T18:59:00.671Z"
   },
   {
    "duration": 9,
    "start_time": "2025-01-30T18:59:16.893Z"
   },
   {
    "duration": 11,
    "start_time": "2025-01-30T18:59:25.350Z"
   },
   {
    "duration": 2565,
    "start_time": "2025-01-30T19:26:46.249Z"
   },
   {
    "duration": 256,
    "start_time": "2025-01-30T19:26:48.816Z"
   },
   {
    "duration": 23,
    "start_time": "2025-01-30T19:26:49.074Z"
   },
   {
    "duration": 10,
    "start_time": "2025-01-30T19:26:49.099Z"
   },
   {
    "duration": 24,
    "start_time": "2025-01-30T19:26:49.110Z"
   },
   {
    "duration": 11,
    "start_time": "2025-01-30T19:26:49.136Z"
   },
   {
    "duration": 65,
    "start_time": "2025-01-30T19:26:49.149Z"
   },
   {
    "duration": 23,
    "start_time": "2025-01-30T19:26:49.217Z"
   },
   {
    "duration": 14,
    "start_time": "2025-01-30T19:26:49.241Z"
   },
   {
    "duration": 30,
    "start_time": "2025-01-30T19:26:49.257Z"
   },
   {
    "duration": 8,
    "start_time": "2025-01-30T19:26:49.289Z"
   },
   {
    "duration": 63,
    "start_time": "2025-01-30T19:26:49.330Z"
   },
   {
    "duration": 9,
    "start_time": "2025-01-30T19:26:49.395Z"
   },
   {
    "duration": 27,
    "start_time": "2025-01-30T19:26:49.405Z"
   },
   {
    "duration": 7,
    "start_time": "2025-01-30T19:26:49.434Z"
   },
   {
    "duration": 61,
    "start_time": "2025-01-30T19:26:49.443Z"
   },
   {
    "duration": 33,
    "start_time": "2025-01-30T19:26:49.506Z"
   },
   {
    "duration": 30,
    "start_time": "2025-01-30T19:26:49.541Z"
   },
   {
    "duration": 40,
    "start_time": "2025-01-30T19:26:49.573Z"
   },
   {
    "duration": 47,
    "start_time": "2025-01-30T19:26:49.615Z"
   },
   {
    "duration": 15,
    "start_time": "2025-01-30T19:26:49.664Z"
   },
   {
    "duration": 50,
    "start_time": "2025-01-30T19:26:49.681Z"
   },
   {
    "duration": 204,
    "start_time": "2025-01-30T19:26:49.733Z"
   },
   {
    "duration": 336,
    "start_time": "2025-01-30T19:26:49.939Z"
   },
   {
    "duration": 9,
    "start_time": "2025-01-30T19:26:50.277Z"
   },
   {
    "duration": 130,
    "start_time": "2025-01-30T19:26:50.288Z"
   },
   {
    "duration": 432,
    "start_time": "2025-01-30T19:26:50.420Z"
   },
   {
    "duration": 9,
    "start_time": "2025-01-30T19:26:50.856Z"
   },
   {
    "duration": 383,
    "start_time": "2025-01-30T19:26:50.866Z"
   },
   {
    "duration": 115,
    "start_time": "2025-01-30T19:26:51.251Z"
   },
   {
    "duration": 10,
    "start_time": "2025-01-30T19:26:51.367Z"
   },
   {
    "duration": 6,
    "start_time": "2025-01-30T19:26:51.379Z"
   },
   {
    "duration": 167,
    "start_time": "2025-01-30T21:14:54.002Z"
   },
   {
    "duration": 2628,
    "start_time": "2025-01-30T21:15:27.291Z"
   },
   {
    "duration": 254,
    "start_time": "2025-01-30T21:15:29.922Z"
   },
   {
    "duration": 22,
    "start_time": "2025-01-30T21:15:30.178Z"
   },
   {
    "duration": 9,
    "start_time": "2025-01-30T21:15:30.203Z"
   },
   {
    "duration": 14,
    "start_time": "2025-01-30T21:15:30.214Z"
   },
   {
    "duration": 9,
    "start_time": "2025-01-30T21:15:30.230Z"
   },
   {
    "duration": 93,
    "start_time": "2025-01-30T21:15:30.240Z"
   },
   {
    "duration": 10,
    "start_time": "2025-01-30T21:15:30.335Z"
   },
   {
    "duration": 14,
    "start_time": "2025-01-30T21:15:30.347Z"
   },
   {
    "duration": 50,
    "start_time": "2025-01-30T21:15:30.364Z"
   },
   {
    "duration": 8,
    "start_time": "2025-01-30T21:15:30.416Z"
   },
   {
    "duration": 83,
    "start_time": "2025-01-30T21:15:30.425Z"
   },
   {
    "duration": 10,
    "start_time": "2025-01-30T21:15:30.509Z"
   },
   {
    "duration": 9,
    "start_time": "2025-01-30T21:15:30.520Z"
   },
   {
    "duration": 7,
    "start_time": "2025-01-30T21:15:30.531Z"
   },
   {
    "duration": 76,
    "start_time": "2025-01-30T21:15:30.540Z"
   },
   {
    "duration": 13,
    "start_time": "2025-01-30T21:15:30.618Z"
   },
   {
    "duration": 31,
    "start_time": "2025-01-30T21:15:30.633Z"
   },
   {
    "duration": 58,
    "start_time": "2025-01-30T21:15:30.666Z"
   },
   {
    "duration": 45,
    "start_time": "2025-01-30T21:15:30.726Z"
   },
   {
    "duration": 14,
    "start_time": "2025-01-30T21:15:30.788Z"
   },
   {
    "duration": 28,
    "start_time": "2025-01-30T21:15:30.804Z"
   },
   {
    "duration": 207,
    "start_time": "2025-01-30T21:15:30.834Z"
   },
   {
    "duration": 408,
    "start_time": "2025-01-30T21:15:31.043Z"
   },
   {
    "duration": 12,
    "start_time": "2025-01-30T21:15:31.454Z"
   },
   {
    "duration": 124,
    "start_time": "2025-01-30T21:15:31.471Z"
   },
   {
    "duration": 399,
    "start_time": "2025-01-30T21:15:31.597Z"
   },
   {
    "duration": 9,
    "start_time": "2025-01-30T21:15:31.999Z"
   },
   {
    "duration": 343,
    "start_time": "2025-01-30T21:15:32.010Z"
   },
   {
    "duration": 117,
    "start_time": "2025-01-30T21:15:32.356Z"
   },
   {
    "duration": 18,
    "start_time": "2025-01-30T21:15:32.475Z"
   },
   {
    "duration": 7,
    "start_time": "2025-01-30T21:15:32.495Z"
   },
   {
    "duration": 2577,
    "start_time": "2025-01-31T04:56:11.515Z"
   },
   {
    "duration": 271,
    "start_time": "2025-01-31T04:56:14.094Z"
   },
   {
    "duration": 23,
    "start_time": "2025-01-31T04:56:14.366Z"
   },
   {
    "duration": 9,
    "start_time": "2025-01-31T04:56:14.391Z"
   },
   {
    "duration": 16,
    "start_time": "2025-01-31T04:56:14.401Z"
   },
   {
    "duration": 8,
    "start_time": "2025-01-31T04:56:14.419Z"
   },
   {
    "duration": 93,
    "start_time": "2025-01-31T04:56:14.429Z"
   },
   {
    "duration": 10,
    "start_time": "2025-01-31T04:56:14.523Z"
   },
   {
    "duration": 12,
    "start_time": "2025-01-31T04:56:14.535Z"
   },
   {
    "duration": 49,
    "start_time": "2025-01-31T04:56:14.550Z"
   },
   {
    "duration": 11,
    "start_time": "2025-01-31T04:56:14.600Z"
   },
   {
    "duration": 82,
    "start_time": "2025-01-31T04:56:14.613Z"
   },
   {
    "duration": 9,
    "start_time": "2025-01-31T04:56:14.697Z"
   },
   {
    "duration": 10,
    "start_time": "2025-01-31T04:56:14.708Z"
   },
   {
    "duration": 7,
    "start_time": "2025-01-31T04:56:14.720Z"
   },
   {
    "duration": 82,
    "start_time": "2025-01-31T04:56:14.729Z"
   },
   {
    "duration": 13,
    "start_time": "2025-01-31T04:56:14.813Z"
   },
   {
    "duration": 31,
    "start_time": "2025-01-31T04:56:14.828Z"
   },
   {
    "duration": 56,
    "start_time": "2025-01-31T04:56:14.861Z"
   },
   {
    "duration": 35,
    "start_time": "2025-01-31T04:56:14.919Z"
   },
   {
    "duration": 31,
    "start_time": "2025-01-31T04:56:14.956Z"
   },
   {
    "duration": 29,
    "start_time": "2025-01-31T04:56:14.989Z"
   },
   {
    "duration": 202,
    "start_time": "2025-01-31T04:56:15.019Z"
   },
   {
    "duration": 430,
    "start_time": "2025-01-31T04:56:15.223Z"
   },
   {
    "duration": 12,
    "start_time": "2025-01-31T04:56:15.656Z"
   },
   {
    "duration": 129,
    "start_time": "2025-01-31T04:56:15.670Z"
   },
   {
    "duration": 340,
    "start_time": "2025-01-31T04:56:15.801Z"
   },
   {
    "duration": 10,
    "start_time": "2025-01-31T04:56:16.144Z"
   },
   {
    "duration": 373,
    "start_time": "2025-01-31T04:56:16.155Z"
   },
   {
    "duration": 118,
    "start_time": "2025-01-31T04:56:16.530Z"
   },
   {
    "duration": 12,
    "start_time": "2025-01-31T04:56:16.650Z"
   },
   {
    "duration": 8,
    "start_time": "2025-01-31T04:56:16.664Z"
   }
  ],
  "kernelspec": {
   "display_name": "base",
   "language": "python",
   "name": "python3"
  },
  "language_info": {
   "codemirror_mode": {
    "name": "ipython",
    "version": 3
   },
   "file_extension": ".py",
   "mimetype": "text/x-python",
   "name": "python",
   "nbconvert_exporter": "python",
   "pygments_lexer": "ipython3",
   "version": "3.12.7"
  },
  "toc": {
   "base_numbering": 1,
   "nav_menu": {},
   "number_sections": true,
   "sideBar": true,
   "skip_h1_title": false,
   "title_cell": "Table of Contents",
   "title_sidebar": "Contents",
   "toc_cell": false,
   "toc_position": {},
   "toc_section_display": true,
   "toc_window_display": true
  }
 },
 "nbformat": 4,
 "nbformat_minor": 2
}
